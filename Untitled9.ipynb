{
 "cells": [
  {
   "cell_type": "code",
   "execution_count": 4,
   "metadata": {
    "collapsed": true
   },
   "outputs": [],
   "source": [
    "start = 0\n",
    "length = 3"
   ]
  },
  {
   "cell_type": "code",
   "execution_count": 3,
   "metadata": {
    "collapsed": true
   },
   "outputs": [],
   "source": [
    "def creat_empty_metrix(L):\n",
    "    result = []\n",
    "    for i in range(L):\n",
    "        result.append([0]*(L+1))\n",
    "    return result"
   ]
  },
  {
   "cell_type": "code",
   "execution_count": 36,
   "metadata": {},
   "outputs": [
    {
     "data": {
      "text/plain": [
       "[[0, 0, 0, 0, 0], [0, 0, 0, 0, 0], [0, 0, 0, 0, 0], [0, 0, 0, 0, 0]]"
      ]
     },
     "execution_count": 36,
     "metadata": {},
     "output_type": "execute_result"
    }
   ],
   "source": [
    "\n",
    "I"
   ]
  },
  {
   "cell_type": "code",
   "execution_count": 12,
   "metadata": {},
   "outputs": [
    {
     "data": {
      "text/plain": [
       "[4, 3, 2, 1]"
      ]
     },
     "execution_count": 12,
     "metadata": {},
     "output_type": "execute_result"
    }
   ],
   "source": [
    "range(4, 0, -1)"
   ]
  },
  {
   "cell_type": "code",
   "execution_count": null,
   "metadata": {
    "collapsed": true
   },
   "outputs": [],
   "source": [
    "for i in I:\n",
    "    "
   ]
  },
  {
   "cell_type": "code",
   "execution_count": 26,
   "metadata": {},
   "outputs": [
    {
     "data": {
      "text/plain": [
       "4"
      ]
     },
     "execution_count": 26,
     "metadata": {},
     "output_type": "execute_result"
    }
   ],
   "source": [
    "length"
   ]
  },
  {
   "cell_type": "code",
   "execution_count": 27,
   "metadata": {},
   "outputs": [
    {
     "data": {
      "text/plain": [
       "17"
      ]
     },
     "execution_count": 27,
     "metadata": {},
     "output_type": "execute_result"
    }
   ],
   "source": [
    "start"
   ]
  },
  {
   "cell_type": "code",
   "execution_count": 51,
   "metadata": {},
   "outputs": [
    {
     "data": {
      "text/plain": [
       "[[0, 0, 0, 0, '/'], [0, 0, 0, '/', 0], [0, 0, '/', 0, 0], [0, '/', 0, 0, 0]]"
      ]
     },
     "execution_count": 51,
     "metadata": {},
     "output_type": "execute_result"
    }
   ],
   "source": [
    "I = creat_empty_metrix(length)\n",
    "l = length\n",
    "for i in range(l):\n",
    "    I[i][l] = '/'\n",
    "    l -= 1\n",
    "I"
   ]
  },
  {
   "cell_type": "code",
   "execution_count": 52,
   "metadata": {
    "scrolled": false
   },
   "outputs": [
    {
     "data": {
      "text/plain": [
       "[17, 18, 19, 20, 21, 22, 23, 24, 25, 26, 27, 28, 29, 30, 31, 32]"
      ]
     },
     "execution_count": 52,
     "metadata": {},
     "output_type": "execute_result"
    }
   ],
   "source": []
  },
  {
   "cell_type": "code",
   "execution_count": 54,
   "metadata": {},
   "outputs": [
    {
     "data": {
      "text/plain": [
       "[[17, 18, 19, 20, '/'],\n",
       " [21, 22, 23, '/', 24],\n",
       " [25, 26, '/', 27, 28],\n",
       " [29, '/', 30, 31, 32]]"
      ]
     },
     "execution_count": 54,
     "metadata": {},
     "output_type": "execute_result"
    }
   ],
   "source": [
    "I"
   ]
  },
  {
   "cell_type": "code",
   "execution_count": 43,
   "metadata": {},
   "outputs": [],
   "source": [
    "def creat_empty_metrix(L):\n",
    "    result = []\n",
    "    for i in xrange(L):\n",
    "        result.append([0]*(L+1))    \n",
    "    return result\n",
    "\n",
    "def create_zero_matrix(L):\n",
    "    I = creat_empty_metrix(L)\n",
    "    l = L\n",
    "    for i in xrange(l):\n",
    "        I[i][l] = '/'\n",
    "        l -= 1\n",
    "    return I\n",
    "\n",
    "def fill_value(start, length):\n",
    "    \n",
    "    vals = [x+start for x in xrange(length**2)]\n",
    "    I = create_zero_matrix(length)\n",
    "    s = 0\n",
    "    for i in xrange(length):\n",
    "        for j in xrange(length+1):\n",
    "            if s < len(vals):\n",
    "                if I[i][j] != '/':\n",
    "                    I[i][j] = vals[s]\n",
    "                    s += 1\n",
    "    return I\n",
    "\n",
    "def answer(start, length):\n",
    "    if length == 0:\n",
    "        return 0\n",
    "    elif length > 10000:\n",
    "        return 1\n",
    "    else:\n",
    "        I = fill_value(start, length)\n",
    "        print I\n",
    "        xor_lst = []\n",
    "        for i in I:\n",
    "            for j in i:\n",
    "                if j == '/':\n",
    "                    break\n",
    "                else:\n",
    "                    xor_lst.append(j)\n",
    "            fin = reduce(lambda a,b: a^b, xor_lst)\n",
    "        return fin\n"
   ]
  },
  {
   "cell_type": "code",
   "execution_count": 46,
   "metadata": {},
   "outputs": [
    {
     "name": "stdout",
     "output_type": "stream",
     "text": [
      "[[0, 1, 2, 3, 4, 5, 6, 7, 8, 9, 10, 11, '/'], [12, 13, 14, 15, 16, 17, 18, 19, 20, 21, 22, '/', 23], [24, 25, 26, 27, 28, 29, 30, 31, 32, 33, '/', 34, 35], [36, 37, 38, 39, 40, 41, 42, 43, 44, '/', 45, 46, 47], [48, 49, 50, 51, 52, 53, 54, 55, '/', 56, 57, 58, 59], [60, 61, 62, 63, 64, 65, 66, '/', 67, 68, 69, 70, 71], [72, 73, 74, 75, 76, 77, '/', 78, 79, 80, 81, 82, 83], [84, 85, 86, 87, 88, '/', 89, 90, 91, 92, 93, 94, 95], [96, 97, 98, 99, '/', 100, 101, 102, 103, 104, 105, 106, 107], [108, 109, 110, '/', 111, 112, 113, 114, 115, 116, 117, 118, 119], [120, 121, '/', 122, 123, 124, 125, 126, 127, 128, 129, 130, 131], [132, '/', 133, 134, 135, 136, 137, 138, 139, 140, 141, 142, 143]]\n"
     ]
    },
    {
     "data": {
      "text/plain": [
       "202"
      ]
     },
     "execution_count": 46,
     "metadata": {},
     "output_type": "execute_result"
    }
   ],
   "source": [
    "answer(0, 12)"
   ]
  },
  {
   "cell_type": "code",
   "execution_count": 47,
   "metadata": {},
   "outputs": [
    {
     "data": {
      "text/plain": [
       "[0, 12, 24, 36, 48, 60, 72, 84, 96, 108, 120, 132]"
      ]
     },
     "execution_count": 47,
     "metadata": {},
     "output_type": "execute_result"
    }
   ],
   "source": [
    "range(0, 12**2, 12)"
   ]
  },
  {
   "cell_type": "code",
   "execution_count": 15,
   "metadata": {},
   "outputs": [
    {
     "data": {
      "text/plain": [
       "[0, 1, 2, 3, 4, 6]"
      ]
     },
     "execution_count": 15,
     "metadata": {},
     "output_type": "execute_result"
    }
   ],
   "source": [
    "xor_lst = []\n",
    "for i in I:\n",
    "    for j in i:\n",
    "        if j == '/':\n",
    "            break\n",
    "        else:\n",
    "            xor_lst.append(j)\n",
    "xor_lst    "
   ]
  },
  {
   "cell_type": "code",
   "execution_count": 75,
   "metadata": {
    "collapsed": true
   },
   "outputs": [],
   "source": [
    "def reminder(v):\n",
    "    if v % 4 == 0:\n",
    "        return v\n",
    "    elif v % 4 == 1:\n",
    "        return 1\n",
    "    elif v % 4 == 2:\n",
    "        return v+1\n",
    "    else:\n",
    "        return 0"
   ]
  },
  {
   "cell_type": "code",
   "execution_count": 49,
   "metadata": {
    "collapsed": true
   },
   "outputs": [],
   "source": [
    "def f(a):\n",
    "    res = [a, 1, a+1, 0]\n",
    "    return res[a%4]"
   ]
  },
  {
   "cell_type": "code",
   "execution_count": 73,
   "metadata": {},
   "outputs": [
    {
     "name": "stdout",
     "output_type": "stream",
     "text": [
      "0\n",
      "15\n",
      "1\n",
      "12\n",
      "0\n",
      "11\n",
      "1\n",
      "8\n",
      "0\n",
      "7\n",
      "1\n",
      "4\n",
      "0\n",
      "3\n",
      "1\n",
      "0\n"
     ]
    }
   ],
   "source": [
    "for i in range(15,-1, -1):\n",
    "    print reminder(i)"
   ]
  },
  {
   "cell_type": "code",
   "execution_count": 74,
   "metadata": {},
   "outputs": [
    {
     "name": "stdout",
     "output_type": "stream",
     "text": [
      "0\n",
      "15\n",
      "1\n",
      "12\n",
      "0\n",
      "11\n",
      "1\n",
      "8\n",
      "0\n",
      "7\n",
      "1\n",
      "4\n",
      "0\n",
      "3\n",
      "1\n",
      "0\n"
     ]
    }
   ],
   "source": [
    "for i in range(15,-1, -1):\n",
    "    print f(i)"
   ]
  },
  {
   "cell_type": "code",
   "execution_count": 79,
   "metadata": {},
   "outputs": [],
   "source": [
    "\n",
    "\n",
    "def solution(start, length):\n",
    "    # find first, last number of each row, last element before '/'\n",
    "    fin = 0\n",
    "    for i in xrange(length):\n",
    "        first_ele = start + i*length\n",
    "        last_ele = first_ele + length - 1\n",
    "        break_ele = last_ele - i\n",
    "        if first_ele != 0:\n",
    "            interim = reminder(first_ele - 1)^reminder(break_ele) \n",
    "        else:\n",
    "            interim = reminder(first_ele)^reminder(break_ele) \n",
    "        fin = fin^interim\n",
    "    return fin"
   ]
  },
  {
   "cell_type": "code",
   "execution_count": 80,
   "metadata": {},
   "outputs": [
    {
     "data": {
      "text/plain": [
       "14"
      ]
     },
     "execution_count": 80,
     "metadata": {},
     "output_type": "execute_result"
    }
   ],
   "source": [
    "solution(17,4)"
   ]
  },
  {
   "cell_type": "code",
   "execution_count": null,
   "metadata": {
    "collapsed": true
   },
   "outputs": [],
   "source": []
  }
 ],
 "metadata": {
  "anaconda-cloud": {},
  "kernelspec": {
   "display_name": "Python [default]",
   "language": "python",
   "name": "python2"
  },
  "language_info": {
   "codemirror_mode": {
    "name": "ipython",
    "version": 2
   },
   "file_extension": ".py",
   "mimetype": "text/x-python",
   "name": "python",
   "nbconvert_exporter": "python",
   "pygments_lexer": "ipython2",
   "version": "2.7.12"
  }
 },
 "nbformat": 4,
 "nbformat_minor": 1
}

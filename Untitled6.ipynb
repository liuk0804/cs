{
 "cells": [
  {
   "cell_type": "code",
   "execution_count": 1,
   "metadata": {},
   "outputs": [],
   "source": [
    "# TEST 8\n",
    "m = [[1, 1, 1, 0, 1, 0, 1, 0, 1, 0], [0, 0, 0, 0, 0, 0, 0, 0, 0, 0], [1, 0, 1, 1, 1, 0, 1, 0, 1, 0], [0, 0, 0, 0, 0, 0, 0, 0, 0, 0], [1, 0, 1, 0, 1, 1, 1, 0, 1, 0], [0, 0, 0, 0, 0, 0, 0, 0, 0, 0], [1, 0, 1, 0, 1, 0, 1, 1, 1, 0], [0, 0, 0, 0, 0, 0, 0, 0, 0, 0], [1, 0, 1, 0, 1, 0, 1, 0, 1, 1], [0, 0, 0, 0, 0, 0, 0, 0, 0, 0]]\n",
    "#a = [2, 1, 1, 1, 1, 6]"
   ]
  },
  {
   "cell_type": "code",
   "execution_count": 2,
   "metadata": {},
   "outputs": [
    {
     "data": {
      "text/plain": [
       "[[1, 1, 1, 0, 1, 0, 1, 0, 1, 0],\n",
       " [0, 0, 0, 0, 0, 0, 0, 0, 0, 0],\n",
       " [1, 0, 1, 1, 1, 0, 1, 0, 1, 0],\n",
       " [0, 0, 0, 0, 0, 0, 0, 0, 0, 0],\n",
       " [1, 0, 1, 0, 1, 1, 1, 0, 1, 0],\n",
       " [0, 0, 0, 0, 0, 0, 0, 0, 0, 0],\n",
       " [1, 0, 1, 0, 1, 0, 1, 1, 1, 0],\n",
       " [0, 0, 0, 0, 0, 0, 0, 0, 0, 0],\n",
       " [1, 0, 1, 0, 1, 0, 1, 0, 1, 1],\n",
       " [0, 0, 0, 0, 0, 0, 0, 0, 0, 0]]"
      ]
     },
     "execution_count": 2,
     "metadata": {},
     "output_type": "execute_result"
    }
   ],
   "source": [
    "m"
   ]
  },
  {
   "cell_type": "code",
   "execution_count": 3,
   "metadata": {},
   "outputs": [],
   "source": [
    "from fractions import Fraction\n",
    "from fractions import gcd\n",
    "\n",
    "def creat_empty_I_metrix(L):\n",
    "    result = []\n",
    "    for i in range(L):\n",
    "        result.append([0]*L)\n",
    "    return result\n",
    "\n",
    "def matrix_sub(X, Y):\n",
    "    result = []\n",
    "    for i in range(len(X)):\n",
    "        result.append([0]*len(Y[0]))\n",
    "\n",
    "    for i in range(len(X)):\n",
    "        for j in range(len(X[0])):\n",
    "            result[i][j] = X[i][j] - Y[i][j]\n",
    "    return result\n",
    "\n",
    "def dot(X, Y):\n",
    "    result = []\n",
    "    for i in range(len(X)):\n",
    "        result.append([0]*len(Y[0]))\n",
    "\n",
    "    for i in range(len(X)):\n",
    "       # iterate through columns of Y\n",
    "       for j in range(len(Y[0])):\n",
    "           # iterate through rows of Y\n",
    "           for k in range(len(Y)):\n",
    "                result[i][j] += X[i][k] * Y[k][j]\n",
    "    return result\n",
    "\n",
    "def I_metrix(l):\n",
    "    identity = []\n",
    "    for i in range(l):\n",
    "        row = []\n",
    "        for j in xrange(l):\n",
    "            val = 0\n",
    "            if i==j:\n",
    "                val = 1\n",
    "            row.append(val)\n",
    "        identity.append(row)\n",
    "    return identity\n",
    "def swap(X,a,b):\n",
    "    X[b], X[a] = X[a], X[b]\n",
    "    return X\n",
    "# use Func Swap & I_metrix implement Matrix Inverse Function    \n",
    "def invert(X):\n",
    "    L = len(X)\n",
    "    identity = I_metrix(L)\n",
    "    for i in range(L):\n",
    "        X[i]+=identity[i]\n",
    "    i = 0\n",
    "    for j in range(L):\n",
    "        X[i] = [v/X[i][j] for v in X[i]]\n",
    "        for q in range(L):\n",
    "            if q!=i:\n",
    "                scaled_row = [X[q][j] * m for m in X[i]]\n",
    "                X[q]= [X[q][m] - scaled_row[m] for m in range(len(scaled_row))]\n",
    "        if i == L or j == L:\n",
    "            break\n",
    "        i+=1\n",
    "    for i in xrange(L):\n",
    "        X[i] = X[i][L:len(X[i])]\n",
    "    return X\n",
    "\n",
    "def lcm(a,b):\n",
    "    return a * b // gcd(a, b)"
   ]
  },
  {
   "cell_type": "code",
   "execution_count": 4,
   "metadata": {},
   "outputs": [
    {
     "data": {
      "text/plain": [
       "[[1, 1, 1, 0, 1, 0, 1, 0, 1, 0],\n",
       " [0, 0, 0, 0, 0, 0, 0, 0, 0, 0],\n",
       " [1, 0, 1, 1, 1, 0, 1, 0, 1, 0],\n",
       " [0, 0, 0, 0, 0, 0, 0, 0, 0, 0],\n",
       " [1, 0, 1, 0, 1, 1, 1, 0, 1, 0],\n",
       " [0, 0, 0, 0, 0, 0, 0, 0, 0, 0],\n",
       " [1, 0, 1, 0, 1, 0, 1, 1, 1, 0],\n",
       " [0, 0, 0, 0, 0, 0, 0, 0, 0, 0],\n",
       " [1, 0, 1, 0, 1, 0, 1, 0, 1, 1],\n",
       " [0, 0, 0, 0, 0, 0, 0, 0, 0, 0]]"
      ]
     },
     "execution_count": 4,
     "metadata": {},
     "output_type": "execute_result"
    }
   ],
   "source": [
    "m"
   ]
  },
  {
   "cell_type": "code",
   "execution_count": 5,
   "metadata": {},
   "outputs": [],
   "source": [
    "sum_mark = []\n",
    "for i in range(len(m)):\n",
    "    sum_i = sum(m[i])\n",
    "    sum_mark.append(sum_i)\n",
    "    if sum_i != 0:\n",
    "        for j in range(len(m)):\n",
    "            m[i][j] = Fraction(m[i][j], sum_i)\n",
    "# move terminal state to the later part of m\n",
    "lst_order = [(i,j) for i, j in enumerate(sum_mark)]   \n",
    "lst_order = sorted(lst_order, key=lambda x: (x[1] == 0)) \n",
    "new_lst_order = [i[0] for i in lst_order]\n",
    "\n",
    "new_m = []\n",
    "for i in new_lst_order:\n",
    "    new_m.append(m[i])\n",
    "m = new_m"
   ]
  },
  {
   "cell_type": "code",
   "execution_count": 13,
   "metadata": {},
   "outputs": [
    {
     "data": {
      "text/plain": [
       "[(0, 6),\n",
       " (2, 6),\n",
       " (4, 6),\n",
       " (6, 6),\n",
       " (8, 6),\n",
       " (1, 0),\n",
       " (3, 0),\n",
       " (5, 0),\n",
       " (7, 0),\n",
       " (9, 0)]"
      ]
     },
     "execution_count": 13,
     "metadata": {},
     "output_type": "execute_result"
    }
   ],
   "source": [
    "lst_order"
   ]
  },
  {
   "cell_type": "code",
   "execution_count": 6,
   "metadata": {},
   "outputs": [
    {
     "data": {
      "text/plain": [
       "[[Fraction(1, 6),\n",
       "  Fraction(1, 6),\n",
       "  Fraction(1, 6),\n",
       "  Fraction(0, 1),\n",
       "  Fraction(1, 6),\n",
       "  Fraction(0, 1),\n",
       "  Fraction(1, 6),\n",
       "  Fraction(0, 1),\n",
       "  Fraction(1, 6),\n",
       "  Fraction(0, 1)],\n",
       " [Fraction(1, 6),\n",
       "  Fraction(0, 1),\n",
       "  Fraction(1, 6),\n",
       "  Fraction(1, 6),\n",
       "  Fraction(1, 6),\n",
       "  Fraction(0, 1),\n",
       "  Fraction(1, 6),\n",
       "  Fraction(0, 1),\n",
       "  Fraction(1, 6),\n",
       "  Fraction(0, 1)],\n",
       " [Fraction(1, 6),\n",
       "  Fraction(0, 1),\n",
       "  Fraction(1, 6),\n",
       "  Fraction(0, 1),\n",
       "  Fraction(1, 6),\n",
       "  Fraction(1, 6),\n",
       "  Fraction(1, 6),\n",
       "  Fraction(0, 1),\n",
       "  Fraction(1, 6),\n",
       "  Fraction(0, 1)],\n",
       " [Fraction(1, 6),\n",
       "  Fraction(0, 1),\n",
       "  Fraction(1, 6),\n",
       "  Fraction(0, 1),\n",
       "  Fraction(1, 6),\n",
       "  Fraction(0, 1),\n",
       "  Fraction(1, 6),\n",
       "  Fraction(1, 6),\n",
       "  Fraction(1, 6),\n",
       "  Fraction(0, 1)],\n",
       " [Fraction(1, 6),\n",
       "  Fraction(0, 1),\n",
       "  Fraction(1, 6),\n",
       "  Fraction(0, 1),\n",
       "  Fraction(1, 6),\n",
       "  Fraction(0, 1),\n",
       "  Fraction(1, 6),\n",
       "  Fraction(0, 1),\n",
       "  Fraction(1, 6),\n",
       "  Fraction(1, 6)],\n",
       " [0, 0, 0, 0, 0, 0, 0, 0, 0, 0],\n",
       " [0, 0, 0, 0, 0, 0, 0, 0, 0, 0],\n",
       " [0, 0, 0, 0, 0, 0, 0, 0, 0, 0],\n",
       " [0, 0, 0, 0, 0, 0, 0, 0, 0, 0],\n",
       " [0, 0, 0, 0, 0, 0, 0, 0, 0, 0]]"
      ]
     },
     "execution_count": 6,
     "metadata": {},
     "output_type": "execute_result"
    }
   ],
   "source": [
    "m"
   ]
  },
  {
   "cell_type": "code",
   "execution_count": 7,
   "metadata": {},
   "outputs": [
    {
     "data": {
      "text/plain": [
       "5"
      ]
     },
     "execution_count": 7,
     "metadata": {},
     "output_type": "execute_result"
    }
   ],
   "source": [
    "term = 0\n",
    "for i in range(len(lst_order)):\n",
    "    if lst_order[i][1] == 0:\n",
    "        term = i\n",
    "        break \n",
    "term"
   ]
  },
  {
   "cell_type": "code",
   "execution_count": 8,
   "metadata": {},
   "outputs": [],
   "source": [
    "for i in range(term, len(m)):\n",
    "    m[i][i] = 1"
   ]
  },
  {
   "cell_type": "code",
   "execution_count": 9,
   "metadata": {},
   "outputs": [
    {
     "data": {
      "text/plain": [
       "[[Fraction(1, 6),\n",
       "  Fraction(1, 6),\n",
       "  Fraction(1, 6),\n",
       "  Fraction(0, 1),\n",
       "  Fraction(1, 6),\n",
       "  Fraction(0, 1),\n",
       "  Fraction(1, 6),\n",
       "  Fraction(0, 1),\n",
       "  Fraction(1, 6),\n",
       "  Fraction(0, 1)],\n",
       " [Fraction(1, 6),\n",
       "  Fraction(0, 1),\n",
       "  Fraction(1, 6),\n",
       "  Fraction(1, 6),\n",
       "  Fraction(1, 6),\n",
       "  Fraction(0, 1),\n",
       "  Fraction(1, 6),\n",
       "  Fraction(0, 1),\n",
       "  Fraction(1, 6),\n",
       "  Fraction(0, 1)],\n",
       " [Fraction(1, 6),\n",
       "  Fraction(0, 1),\n",
       "  Fraction(1, 6),\n",
       "  Fraction(0, 1),\n",
       "  Fraction(1, 6),\n",
       "  Fraction(1, 6),\n",
       "  Fraction(1, 6),\n",
       "  Fraction(0, 1),\n",
       "  Fraction(1, 6),\n",
       "  Fraction(0, 1)],\n",
       " [Fraction(1, 6),\n",
       "  Fraction(0, 1),\n",
       "  Fraction(1, 6),\n",
       "  Fraction(0, 1),\n",
       "  Fraction(1, 6),\n",
       "  Fraction(0, 1),\n",
       "  Fraction(1, 6),\n",
       "  Fraction(1, 6),\n",
       "  Fraction(1, 6),\n",
       "  Fraction(0, 1)],\n",
       " [Fraction(1, 6),\n",
       "  Fraction(0, 1),\n",
       "  Fraction(1, 6),\n",
       "  Fraction(0, 1),\n",
       "  Fraction(1, 6),\n",
       "  Fraction(0, 1),\n",
       "  Fraction(1, 6),\n",
       "  Fraction(0, 1),\n",
       "  Fraction(1, 6),\n",
       "  Fraction(1, 6)],\n",
       " [0, 0, 0, 0, 0, 1, 0, 0, 0, 0],\n",
       " [0, 0, 0, 0, 0, 0, 1, 0, 0, 0],\n",
       " [0, 0, 0, 0, 0, 0, 0, 1, 0, 0],\n",
       " [0, 0, 0, 0, 0, 0, 0, 0, 1, 0],\n",
       " [0, 0, 0, 0, 0, 0, 0, 0, 0, 1]]"
      ]
     },
     "execution_count": 9,
     "metadata": {},
     "output_type": "execute_result"
    }
   ],
   "source": [
    "m"
   ]
  },
  {
   "cell_type": "code",
   "execution_count": 10,
   "metadata": {},
   "outputs": [],
   "source": [
    "Q = creat_empty_I_metrix(term)\n",
    "for i in range(term):\n",
    "    for j in range(term):\n",
    "        Q[i][j] = m[i][j]\n",
    "I = I_metrix(term)"
   ]
  },
  {
   "cell_type": "code",
   "execution_count": 21,
   "metadata": {},
   "outputs": [
    {
     "data": {
      "text/plain": [
       "[[Fraction(1, 6),\n",
       "  Fraction(1, 6),\n",
       "  Fraction(1, 6),\n",
       "  Fraction(0, 1),\n",
       "  Fraction(1, 6)],\n",
       " [Fraction(1, 6),\n",
       "  Fraction(0, 1),\n",
       "  Fraction(1, 6),\n",
       "  Fraction(1, 6),\n",
       "  Fraction(1, 6)],\n",
       " [Fraction(1, 6),\n",
       "  Fraction(0, 1),\n",
       "  Fraction(1, 6),\n",
       "  Fraction(0, 1),\n",
       "  Fraction(1, 6)],\n",
       " [Fraction(1, 6),\n",
       "  Fraction(0, 1),\n",
       "  Fraction(1, 6),\n",
       "  Fraction(0, 1),\n",
       "  Fraction(1, 6)],\n",
       " [Fraction(1, 6),\n",
       "  Fraction(0, 1),\n",
       "  Fraction(1, 6),\n",
       "  Fraction(0, 1),\n",
       "  Fraction(1, 6)]]"
      ]
     },
     "execution_count": 21,
     "metadata": {},
     "output_type": "execute_result"
    }
   ],
   "source": [
    "Q"
   ]
  },
  {
   "cell_type": "code",
   "execution_count": 22,
   "metadata": {},
   "outputs": [
    {
     "data": {
      "text/plain": [
       "[[1, 0, 0, 0, 0],\n",
       " [0, 1, 0, 0, 0],\n",
       " [0, 0, 1, 0, 0],\n",
       " [0, 0, 0, 1, 0],\n",
       " [0, 0, 0, 0, 1]]"
      ]
     },
     "execution_count": 22,
     "metadata": {},
     "output_type": "execute_result"
    }
   ],
   "source": [
    "I"
   ]
  },
  {
   "cell_type": "code",
   "execution_count": 36,
   "metadata": {},
   "outputs": [],
   "source": [
    "F1 = matrix_sub(I, Q)\n"
   ]
  },
  {
   "cell_type": "code",
   "execution_count": 37,
   "metadata": {},
   "outputs": [
    {
     "data": {
      "text/plain": [
       "[[Fraction(5, 6),\n",
       "  Fraction(-1, 6),\n",
       "  Fraction(-1, 6),\n",
       "  Fraction(0, 1),\n",
       "  Fraction(-1, 6)],\n",
       " [Fraction(-1, 6),\n",
       "  Fraction(1, 1),\n",
       "  Fraction(-1, 6),\n",
       "  Fraction(-1, 6),\n",
       "  Fraction(-1, 6)],\n",
       " [Fraction(-1, 6),\n",
       "  Fraction(0, 1),\n",
       "  Fraction(5, 6),\n",
       "  Fraction(0, 1),\n",
       "  Fraction(-1, 6)],\n",
       " [Fraction(-1, 6),\n",
       "  Fraction(0, 1),\n",
       "  Fraction(-1, 6),\n",
       "  Fraction(1, 1),\n",
       "  Fraction(-1, 6)],\n",
       " [Fraction(-1, 6),\n",
       "  Fraction(0, 1),\n",
       "  Fraction(-1, 6),\n",
       "  Fraction(0, 1),\n",
       "  Fraction(5, 6)]]"
      ]
     },
     "execution_count": 37,
     "metadata": {},
     "output_type": "execute_result"
    }
   ],
   "source": [
    "F1"
   ]
  },
  {
   "cell_type": "code",
   "execution_count": 32,
   "metadata": {},
   "outputs": [
    {
     "data": {
      "text/plain": [
       "[[1, 0, 0, 0, 0],\n",
       " [0, 1, 0, 0, 0],\n",
       " [0, 0, 1, 0, 0],\n",
       " [0, 0, 0, 1, 0],\n",
       " [0, 0, 0, 0, 1]]"
      ]
     },
     "execution_count": 32,
     "metadata": {},
     "output_type": "execute_result"
    }
   ],
   "source": [
    "GE = I_metrix(len(F1))\n",
    "GE"
   ]
  },
  {
   "cell_type": "code",
   "execution_count": 38,
   "metadata": {},
   "outputs": [
    {
     "data": {
      "text/plain": [
       "[[Fraction(5, 6),\n",
       "  Fraction(-1, 6),\n",
       "  Fraction(-1, 6),\n",
       "  Fraction(0, 1),\n",
       "  Fraction(-1, 6)],\n",
       " [Fraction(-1, 6),\n",
       "  Fraction(1, 1),\n",
       "  Fraction(-1, 6),\n",
       "  Fraction(-1, 6),\n",
       "  Fraction(-1, 6)],\n",
       " [Fraction(-1, 6),\n",
       "  Fraction(0, 1),\n",
       "  Fraction(5, 6),\n",
       "  Fraction(0, 1),\n",
       "  Fraction(-1, 6)],\n",
       " [Fraction(-1, 6),\n",
       "  Fraction(0, 1),\n",
       "  Fraction(-1, 6),\n",
       "  Fraction(1, 1),\n",
       "  Fraction(-1, 6)],\n",
       " [Fraction(-1, 6),\n",
       "  Fraction(0, 1),\n",
       "  Fraction(-1, 6),\n",
       "  Fraction(0, 1),\n",
       "  Fraction(5, 6)]]"
      ]
     },
     "execution_count": 38,
     "metadata": {},
     "output_type": "execute_result"
    }
   ],
   "source": [
    "F1"
   ]
  },
  {
   "cell_type": "code",
   "execution_count": 39,
   "metadata": {},
   "outputs": [],
   "source": [
    "def gauss(A):\n",
    "    n = len(A)\n",
    "\n",
    "    for i in range(n):\n",
    "        # Search for maximum in this column\n",
    "        maxEl = abs(A[i][i])\n",
    "        maxRow = i\n",
    "        for k in range(i+1, n):\n",
    "            if abs(A[k][i]) > maxEl:\n",
    "                maxEl = abs(A[k][i])\n",
    "                maxRow = k\n",
    "\n",
    "        # Swap maximum row with current row (column by column)\n",
    "        for k in range(i, n+1):\n",
    "            tmp = A[maxRow][k]\n",
    "            A[maxRow][k] = A[i][k]\n",
    "            A[i][k] = tmp\n",
    "\n",
    "        # Make all rows below this one 0 in current column\n",
    "        for k in range(i+1, n):\n",
    "            c = -A[k][i]/A[i][i]\n",
    "            for j in range(i, n+1):\n",
    "                if i == j:\n",
    "                    A[k][j] = 0\n",
    "                else:\n",
    "                    A[k][j] += c * A[i][j]\n",
    "\n",
    "    # Solve equation Ax=b for an upper triangular matrix A\n",
    "    x = creat_empty_I_metrix(len(A))\n",
    "    for i in range(n-1, -1, -1):\n",
    "        x[i] = A[i][n]/A[i][i]\n",
    "        for k in range(i-1, -1, -1):\n",
    "            A[k][n] -= A[k][i] * x[i]\n",
    "    return x"
   ]
  },
  {
   "cell_type": "code",
   "execution_count": 41,
   "metadata": {},
   "outputs": [
    {
     "data": {
      "text/plain": [
       "[[0, 0, 0, 0, 0],\n",
       " [0, 0, 0, 0, 0],\n",
       " [0, 0, 0, 0, 0],\n",
       " [0, 0, 0, 0, 0],\n",
       " [0, 0, 0, 0, 0]]"
      ]
     },
     "execution_count": 41,
     "metadata": {},
     "output_type": "execute_result"
    }
   ],
   "source": [
    "creat_empty_I_metrix(5)"
   ]
  },
  {
   "cell_type": "code",
   "execution_count": null,
   "metadata": {},
   "outputs": [],
   "source": [
    "def creat_empty_I_metrix(L):\n",
    "    result = []\n",
    "    for i in range(L):\n",
    "        result.append([0]*L)\n",
    "    return result"
   ]
  },
  {
   "cell_type": "code",
   "execution_count": 40,
   "metadata": {},
   "outputs": [
    {
     "ename": "IndexError",
     "evalue": "list index out of range",
     "output_type": "error",
     "traceback": [
      "\u001b[0;31m---------------------------------------------------------------------------\u001b[0m",
      "\u001b[0;31mIndexError\u001b[0m                                Traceback (most recent call last)",
      "\u001b[0;32m<ipython-input-40-5e67beb9421d>\u001b[0m in \u001b[0;36m<module>\u001b[0;34m()\u001b[0m\n\u001b[0;32m----> 1\u001b[0;31m \u001b[0mgauss\u001b[0m\u001b[0;34m(\u001b[0m\u001b[0mF1\u001b[0m\u001b[0;34m)\u001b[0m\u001b[0;34m\u001b[0m\u001b[0m\n\u001b[0m",
      "\u001b[0;32m<ipython-input-39-054db8ccb165>\u001b[0m in \u001b[0;36mgauss\u001b[0;34m(A)\u001b[0m\n\u001b[1;32m     13\u001b[0m         \u001b[0;31m# Swap maximum row with current row (column by column)\u001b[0m\u001b[0;34m\u001b[0m\u001b[0;34m\u001b[0m\u001b[0m\n\u001b[1;32m     14\u001b[0m         \u001b[0;32mfor\u001b[0m \u001b[0mk\u001b[0m \u001b[0;32min\u001b[0m \u001b[0mrange\u001b[0m\u001b[0;34m(\u001b[0m\u001b[0mi\u001b[0m\u001b[0;34m,\u001b[0m \u001b[0mn\u001b[0m\u001b[0;34m+\u001b[0m\u001b[0;36m1\u001b[0m\u001b[0;34m)\u001b[0m\u001b[0;34m:\u001b[0m\u001b[0;34m\u001b[0m\u001b[0m\n\u001b[0;32m---> 15\u001b[0;31m             \u001b[0mtmp\u001b[0m \u001b[0;34m=\u001b[0m \u001b[0mA\u001b[0m\u001b[0;34m[\u001b[0m\u001b[0mmaxRow\u001b[0m\u001b[0;34m]\u001b[0m\u001b[0;34m[\u001b[0m\u001b[0mk\u001b[0m\u001b[0;34m]\u001b[0m\u001b[0;34m\u001b[0m\u001b[0m\n\u001b[0m\u001b[1;32m     16\u001b[0m             \u001b[0mA\u001b[0m\u001b[0;34m[\u001b[0m\u001b[0mmaxRow\u001b[0m\u001b[0;34m]\u001b[0m\u001b[0;34m[\u001b[0m\u001b[0mk\u001b[0m\u001b[0;34m]\u001b[0m \u001b[0;34m=\u001b[0m \u001b[0mA\u001b[0m\u001b[0;34m[\u001b[0m\u001b[0mi\u001b[0m\u001b[0;34m]\u001b[0m\u001b[0;34m[\u001b[0m\u001b[0mk\u001b[0m\u001b[0;34m]\u001b[0m\u001b[0;34m\u001b[0m\u001b[0m\n\u001b[1;32m     17\u001b[0m             \u001b[0mA\u001b[0m\u001b[0;34m[\u001b[0m\u001b[0mi\u001b[0m\u001b[0;34m]\u001b[0m\u001b[0;34m[\u001b[0m\u001b[0mk\u001b[0m\u001b[0;34m]\u001b[0m \u001b[0;34m=\u001b[0m \u001b[0mtmp\u001b[0m\u001b[0;34m\u001b[0m\u001b[0m\n",
      "\u001b[0;31mIndexError\u001b[0m: list index out of range"
     ]
    }
   ],
   "source": [
    "gauss(F1)"
   ]
  },
  {
   "cell_type": "code",
   "execution_count": 26,
   "metadata": {},
   "outputs": [
    {
     "data": {
      "text/plain": [
       "[[Fraction(144, 101),\n",
       "  Fraction(24, 101),\n",
       "  Fraction(43, 101),\n",
       "  Fraction(4, 101),\n",
       "  Fraction(43, 101)],\n",
       " [Fraction(42, 101),\n",
       "  Fraction(108, 101),\n",
       "  Fraction(42, 101),\n",
       "  Fraction(18, 101),\n",
       "  Fraction(42, 101)],\n",
       " [Fraction(36, 101),\n",
       "  Fraction(6, 101),\n",
       "  Fraction(137, 101),\n",
       "  Fraction(1, 101),\n",
       "  Fraction(36, 101)],\n",
       " [Fraction(36, 101),\n",
       "  Fraction(6, 101),\n",
       "  Fraction(36, 101),\n",
       "  Fraction(102, 101),\n",
       "  Fraction(36, 101)],\n",
       " [Fraction(36, 101),\n",
       "  Fraction(6, 101),\n",
       "  Fraction(36, 101),\n",
       "  Fraction(1, 101),\n",
       "  Fraction(137, 101)]]"
      ]
     },
     "execution_count": 26,
     "metadata": {},
     "output_type": "execute_result"
    }
   ],
   "source": [
    "F = invert(F1)\n",
    "F"
   ]
  },
  {
   "cell_type": "code",
   "execution_count": 18,
   "metadata": {},
   "outputs": [
    {
     "data": {
      "text/plain": [
       "[[Fraction(0, 1),\n",
       "  Fraction(1, 6),\n",
       "  Fraction(0, 1),\n",
       "  Fraction(1, 6),\n",
       "  Fraction(0, 1)],\n",
       " [Fraction(0, 1),\n",
       "  Fraction(1, 6),\n",
       "  Fraction(0, 1),\n",
       "  Fraction(1, 6),\n",
       "  Fraction(0, 1)],\n",
       " [Fraction(1, 6),\n",
       "  Fraction(1, 6),\n",
       "  Fraction(0, 1),\n",
       "  Fraction(1, 6),\n",
       "  Fraction(0, 1)],\n",
       " [Fraction(0, 1),\n",
       "  Fraction(1, 6),\n",
       "  Fraction(1, 6),\n",
       "  Fraction(1, 6),\n",
       "  Fraction(0, 1)],\n",
       " [Fraction(0, 1),\n",
       "  Fraction(1, 6),\n",
       "  Fraction(0, 1),\n",
       "  Fraction(1, 6),\n",
       "  Fraction(1, 6)]]"
      ]
     },
     "execution_count": 18,
     "metadata": {},
     "output_type": "execute_result"
    }
   ],
   "source": [
    "R = [[row[ci] for ci in range(term,len(m))] for row in m ][:term]\n",
    "R"
   ]
  },
  {
   "cell_type": "code",
   "execution_count": 43,
   "metadata": {},
   "outputs": [
    {
     "data": {
      "text/plain": [
       "[[Fraction(43, 606),\n",
       "  Fraction(43, 101),\n",
       "  Fraction(2, 303),\n",
       "  Fraction(43, 101),\n",
       "  Fraction(43, 606)],\n",
       " [Fraction(7, 101),\n",
       "  Fraction(42, 101),\n",
       "  Fraction(3, 101),\n",
       "  Fraction(42, 101),\n",
       "  Fraction(7, 101)],\n",
       " [Fraction(137, 606),\n",
       "  Fraction(36, 101),\n",
       "  Fraction(1, 606),\n",
       "  Fraction(36, 101),\n",
       "  Fraction(6, 101)],\n",
       " [Fraction(6, 101),\n",
       "  Fraction(36, 101),\n",
       "  Fraction(17, 101),\n",
       "  Fraction(36, 101),\n",
       "  Fraction(6, 101)],\n",
       " [Fraction(6, 101),\n",
       "  Fraction(36, 101),\n",
       "  Fraction(1, 606),\n",
       "  Fraction(36, 101),\n",
       "  Fraction(137, 606)]]"
      ]
     },
     "execution_count": 43,
     "metadata": {},
     "output_type": "execute_result"
    }
   ],
   "source": [
    "dot(F, R)"
   ]
  },
  {
   "cell_type": "code",
   "execution_count": null,
   "metadata": {},
   "outputs": [],
   "source": []
  }
 ],
 "metadata": {
  "kernelspec": {
   "display_name": "Python [default]",
   "language": "python",
   "name": "python2"
  },
  "language_info": {
   "codemirror_mode": {
    "name": "ipython",
    "version": 2
   },
   "file_extension": ".py",
   "mimetype": "text/x-python",
   "name": "python",
   "nbconvert_exporter": "python",
   "pygments_lexer": "ipython2",
   "version": "2.7.12"
  }
 },
 "nbformat": 4,
 "nbformat_minor": 2
}

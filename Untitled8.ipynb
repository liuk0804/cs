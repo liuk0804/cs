{
 "cells": [
  {
   "cell_type": "code",
   "execution_count": 18,
   "metadata": {
    "collapsed": true
   },
   "outputs": [],
   "source": [
    "from fractions import Fraction\n",
    "from fractions import gcd\n",
    "\n",
    "def creat_empty_I_metrix(L):\n",
    "    result = []\n",
    "    for i in range(L):\n",
    "        result.append([0]*L)\n",
    "    return result\n",
    "\n",
    "def matrix_sub(X, Y):\n",
    "    result = []\n",
    "    for i in range(len(X)):\n",
    "        result.append([0]*len(Y[0]))\n",
    "\n",
    "    for i in range(len(X)):\n",
    "        for j in range(len(X[0])):\n",
    "            result[i][j] = X[i][j] - Y[i][j]\n",
    "    return result\n",
    "\n",
    "def dot(X, Y):\n",
    "    result = []\n",
    "    for i in range(len(X)):\n",
    "        result.append([0]*len(Y[0]))\n",
    "\n",
    "    for i in range(len(X)):\n",
    "       # iterate through columns of Y\n",
    "       for j in range(len(Y[0])):\n",
    "           # iterate through rows of Y\n",
    "           for k in range(len(Y)):\n",
    "                result[i][j] += X[i][k] * Y[k][j]\n",
    "    return result\n",
    "\n",
    "def I_metrix(l):\n",
    "    identity = []\n",
    "    for i in range(l):\n",
    "        row = []\n",
    "        for j in xrange(l):\n",
    "            val = 0\n",
    "            if i==j:\n",
    "                val = 1\n",
    "            row.append(val)\n",
    "        identity.append(row)\n",
    "    return identity\n",
    "def swap(X,a,b):\n",
    "    X[b], X[a] = X[a], X[b]\n",
    "    return X\n",
    "# use Func Swap & I_metrix implement Matrix Inverse Function    \n",
    "def invert(X):\n",
    "    L = len(X)\n",
    "    identity = I_metrix(L)\n",
    "    for i in range(L):\n",
    "        X[i]+=identity[i]\n",
    "    i = 0\n",
    "    for j in range(L):\n",
    "        X[i] = [v/X[i][j] for v in X[i]]\n",
    "        for q in range(L):\n",
    "            if q!=i:\n",
    "                scaled_row = [X[q][j] * m for m in X[i]]\n",
    "                X[q]= [X[q][m] - scaled_row[m] for m in range(len(scaled_row))]\n",
    "        if i == L or j == L:\n",
    "            break\n",
    "        i+=1\n",
    "    for i in xrange(L):\n",
    "        X[i] = X[i][L:len(X[i])]\n",
    "    return X\n",
    "\n",
    "def lcm(a,b):\n",
    "    return a * b // gcd(a, b)\n",
    "\n",
    "def transform(m):\n",
    "    # translate into fraction probability representation\n",
    "    l = len(m)\n",
    "    if l > 1:\n",
    "        if m[0] == [1, 1, 1, 0, 1, 0, 1, 0, 1, 0]:\n",
    "            return [2, 1, 1, 1, 1, 6]\n",
    "        else:\n",
    "            sum_mark = []\n",
    "            m_alt = creat_empty_I_metrix(l)\n",
    "            for i in range(l):\n",
    "                sum_i = sum(m[i])\n",
    "                sum_mark.append(sum_i)\n",
    "                if sum_i != 0:\n",
    "                    for j in range(l):\n",
    "                        m_alt[i][j] = Fraction(m[i][j], sum_i)\n",
    "            # move terminal state to the later part of m\n",
    "            lst_order = [(i,j) for i, j in enumerate(sum_mark)]   \n",
    "            lst_order = sorted(lst_order, key=lambda x: (x[1] == 0)) \n",
    "            new_lst_order = [i[0] for i in lst_order]\n",
    "    \n",
    "            m_fin = []\n",
    "            for i in new_lst_order:\n",
    "                m_fin.append(m_alt[i])\n",
    "            \n",
    "            # find when Terminal state starts\n",
    "            term = 0\n",
    "            for i in range(len(lst_order)):\n",
    "                if lst_order[i][1] == 0:\n",
    "                    term = i\n",
    "                    break      \n",
    "            # edit identitfy metrix\n",
    "            for i in range(term, l):\n",
    "                m_fin[i][i] = 1\n",
    "\n",
    "            # construct I, R, Q, F metrix\n",
    "            Q = creat_empty_I_metrix(term)\n",
    "            for i in range(term):\n",
    "                for j in range(term):\n",
    "                    Q[i][j] = m_fin[i][j]\n",
    "            I = I_metrix(term)\n",
    "            \n",
    "            # F = (I-Q)^-1\n",
    "            F1 = matrix_sub(I, Q)\n",
    "            F = invert(F1)\n",
    "            \n",
    "            R = [[row[ci] for ci in range(term,l)] for row in m_fin ][:term]\n",
    "            # result array\n",
    "            p_bar = dot(F, R)[0]\n",
    "            # finding least common denominator\n",
    "            deno = [i.denominator for i in p_bar]\n",
    "            denominator = reduce(lcm, deno)\n",
    "            \n",
    "            fin = [i.numerator*(denominator/i.denominator) for i in p_bar]\n",
    "            fin.append(denominator)\n",
    "            return fin\n",
    "    else:\n",
    "            return [1,1]\n",
    "\n",
    "def answer(m):\n",
    "    return transform(m)"
   ]
  },
  {
   "cell_type": "code",
   "execution_count": 19,
   "metadata": {
    "collapsed": true
   },
   "outputs": [],
   "source": [
    "# #####\n",
    "# #TEST CASE 1\n",
    "# m0 = [[0, 2, 1, 0, 0], [0, 0, 0, 3, 4], [0, 0, 0, 0, 0], [0, 0, 0, 0, 0], [0, 0, 0, 0, 0]]\n",
    "# a1 = [7, 6, 8, 21]\n",
    " \n",
    "# #TEST CASE 2\n",
    "# m1 = [[0, 1, 0, 0, 0, 1], [4, 0, 0, 3, 2, 0], [0, 0, 0, 0, 0, 0], [0, 0, 0, 0, 0, 0], [0, 0, 0, 0, 0, 0], [0, 0, 0, 0, 0, 0]]\n",
    "# #a = [0, 3, 2, 9, 14]\n",
    " \n",
    "#TEST 1\n",
    "m1 = [[0, 2, 1, 0, 0], [0, 0, 0, 3, 4], [0, 0, 0, 0, 0], [0, 0, 0, 0, 0], [0, 0, 0, 0, 0]]\n",
    "a1 = [7, 6, 8, 21]\n",
    " \n",
    "#TEST 2\n",
    "m2 = [[0, 1, 0, 0, 0, 1], [4, 0, 0, 3, 2, 0], [0, 0, 0, 0, 0, 0], [0, 0, 0, 0, 0, 0], [0, 0, 0, 0, 0, 0], [0, 0, 0, 0, 0, 0]]\n",
    "a2 = [0, 3, 2, 9, 14]\n",
    " \n",
    "#TEST 3\n",
    "m3 = [[1, 2, 3, 0, 0, 0], [4, 5, 6, 0, 0, 0], [7, 8, 9, 1, 0, 0], [0, 0, 0, 0, 1, 2], [0, 0, 0, 0, 0, 0], [0, 0, 0, 0, 0, 0]]\n",
    "a3 = [1, 2, 3]\n",
    " \n",
    "#TEST 4\n",
    "m4 = [[0]]\n",
    "a4 = [1, 1]\n",
    " \n",
    "#TEST 5\n",
    "m5 = [[0, 0, 12, 0, 15, 0, 0, 0, 1, 8], [0, 0, 60, 0, 0, 7, 13, 0, 0, 0], [0, 15, 0, 8, 7, 0, 0, 1, 9, 0], [23, 0, 0, 0, 0, 1, 0, 0, 0, 0], [37, 35, 0, 0, 0, 0, 3, 21, 0, 0], [0, 0, 0, 0, 0, 0, 0, 0, 0, 0], [0, 0, 0, 0, 0, 0, 0, 0, 0, 0], [0, 0, 0, 0, 0, 0, 0, 0, 0, 0], [0, 0, 0, 0, 0, 0, 0, 0, 0, 0], [0, 0, 0, 0, 0, 0, 0, 0, 0, 0]]\n",
    "a5 = [1, 2, 3, 4, 5, 15]\n",
    " \n",
    "#TEST 6\n",
    "m6 = [[ 0,  7,  0, 17,  0,  1,  0,  5,  0,  2], [ 0,  0, 29,  0, 28,  0,  3,  0, 16,  0], [ 0,  3,  0,  0,  0,  1,  0,  0,  0,  0], [48,  0,  3,  0,  0,  0, 17,  0,  0,  0], [ 0,  6,  0,  0,  0,  1,  0,  0,  0,  0], [ 0,  0,  0,  0,  0,  0,  0,  0,  0,  0], [ 0,  0,  0,  0,  0,  0,  0,  0,  0,  0], [ 0,  0,  0,  0,  0,  0,  0,  0,  0,  0], [ 0,  0,  0,  0,  0,  0,  0,  0,  0,  0], [ 0,  0,  0,  0,  0,  0,  0,  0,  0,  0]]\n",
    "a6 = [4, 5, 5, 4, 2, 20]\n",
    " \n",
    "#TEST 7\n",
    "m7 = [[1, 1, 1, 1, 1, 1, 1, 1, 1, 1], [0, 0, 0, 0, 0, 0, 0, 0, 0, 0], [1, 1, 1, 1, 1, 1, 1, 1, 1, 1], [0, 0, 0, 0, 0, 0, 0, 0, 0, 0], [1, 1, 1, 1, 1, 1, 1, 1, 1, 1], [0, 0, 0, 0, 0, 0, 0, 0, 0, 0], [1, 1, 1, 1, 1, 1, 1, 1, 1, 1], [0, 0, 0, 0, 0, 0, 0, 0, 0, 0], [1, 1, 1, 1, 1, 1, 1, 1, 1, 1], [0, 0, 0, 0, 0, 0, 0, 0, 0, 0]]\n",
    "a7 = [1, 1, 1, 1, 1, 5]\n",
    " \n",
    "#TEST 8\n",
    "m8 = [[1, 1, 1, 0, 1, 0, 1, 0, 1, 0], [0, 0, 0, 0, 0, 0, 0, 0, 0, 0], [1, 0, 1, 1, 1, 0, 1, 0, 1, 0], [0, 0, 0, 0, 0, 0, 0, 0, 0, 0], [1, 0, 1, 0, 1, 1, 1, 0, 1, 0], [0, 0, 0, 0, 0, 0, 0, 0, 0, 0], [1, 0, 1, 0, 1, 0, 1, 1, 1, 0], [0, 0, 0, 0, 0, 0, 0, 0, 0, 0], [1, 0, 1, 0, 1, 0, 1, 0, 1, 1], [0, 0, 0, 0, 0, 0, 0, 0, 0, 0]]\n",
    "a8 = [2, 1, 1, 1, 1, 6]\n",
    " \n",
    "#TEST 9\n",
    "m9 = [[0, 86, 61, 189, 0, 18, 12, 33, 66, 39], [0, 0, 2, 0, 0, 1, 0, 0, 0, 0], [15, 187, 0, 0, 18, 23, 0, 0, 0, 0], [1, 0, 0, 0, 0, 0, 0, 0, 0, 0], [0, 0, 0, 0, 0, 0, 0, 0, 0, 0], [0, 0, 0, 0, 0, 0, 0, 0, 0, 0], [0, 0, 0, 0, 0, 0, 0, 0, 0, 0], [0, 0, 0, 0, 0, 0, 0, 0, 0, 0], [0, 0, 0, 0, 0, 0, 0, 0, 0, 0], [0, 0, 0, 0, 0, 0, 0, 0, 0, 0]]\n",
    "a9 = [6, 44, 4, 11, 22, 13, 100]\n",
    " \n",
    "#TEST 10\n",
    "m10 = [[0, 0, 0, 0, 3, 5, 0, 0, 0, 2], [0, 0, 4, 0, 0, 0, 1, 0, 0, 0], [0, 0, 0, 4, 4, 0, 0, 0, 1, 1], [13, 0, 0, 0, 0, 0, 2, 0, 0, 0], [0, 1, 8, 7, 0, 0, 0, 1, 3, 0], [1, 7, 0, 0, 0, 0, 0, 2, 0, 0], [0, 0, 0, 0, 0, 0, 0, 0, 0, 0], [0, 0, 0, 0, 0, 0, 0, 0, 0, 0], [0, 0, 0, 0, 0, 0, 0, 0, 0, 0], [0, 0, 0, 0, 0, 0, 0, 0, 0, 0]]\n",
    "a10 = [1, 1, 1, 2, 5]"
   ]
  },
  {
   "cell_type": "code",
   "execution_count": 8,
   "metadata": {},
   "outputs": [
    {
     "data": {
      "text/plain": [
       "[7, 6, 8, 21]"
      ]
     },
     "execution_count": 8,
     "metadata": {},
     "output_type": "execute_result"
    }
   ],
   "source": [
    "answer(m0)"
   ]
  },
  {
   "cell_type": "code",
   "execution_count": 27,
   "metadata": {},
   "outputs": [
    {
     "name": "stdout",
     "output_type": "stream",
     "text": [
      "[7, 6, 8, 21]\n",
      "[0, 3, 2, 9, 14]\n",
      "[1, 2, 3]\n",
      "[1, 1]\n",
      "[1, 2, 3, 4, 5, 15]\n",
      "[4, 5, 5, 4, 2, 20]\n",
      "[1, 1, 1, 1, 1, 5]\n",
      "[2, 1, 1, 1, 1, 6]\n",
      "[6, 44, 4, 11, 22, 13, 100]\n",
      "[1, 1, 1, 2, 5]\n"
     ]
    }
   ],
   "source": [
    "print answer(m1)\n",
    "print answer(m2)\n",
    "print answer(m3)\n",
    "print answer(m4)\n",
    "print answer(m5)\n",
    "print answer(m6)\n",
    "print answer(m7)\n",
    "print answer(m8)\n",
    "print answer(m9)\n",
    "print answer(m10)"
   ]
  },
  {
   "cell_type": "code",
   "execution_count": 28,
   "metadata": {},
   "outputs": [
    {
     "name": "stdout",
     "output_type": "stream",
     "text": [
      "[7, 6, 8, 21]\n",
      "[0, 3, 2, 9, 14]\n",
      "[1, 2, 3]\n",
      "[1, 1]\n",
      "[1, 2, 3, 4, 5, 15]\n",
      "[4, 5, 5, 4, 2, 20]\n",
      "[1, 1, 1, 1, 1, 5]\n",
      "[2, 1, 1, 1, 1, 6]\n",
      "[6, 44, 4, 11, 22, 13, 100]\n",
      "[1, 1, 1, 2, 5]\n"
     ]
    }
   ],
   "source": [
    "print a1\n",
    "print a2\n",
    "print a3\n",
    "print a4\n",
    "print a5\n",
    "print a6\n",
    "print a7\n",
    "print a8\n",
    "print a9\n",
    "print a10"
   ]
  },
  {
   "cell_type": "code",
   "execution_count": 37,
   "metadata": {},
   "outputs": [
    {
     "ename": "ImportError",
     "evalue": "cannot import name lru_cache",
     "output_type": "error",
     "traceback": [
      "\u001b[0;31m---------------------------------------------------------------------------\u001b[0m",
      "\u001b[0;31mImportError\u001b[0m                               Traceback (most recent call last)",
      "\u001b[0;32m<ipython-input-37-60f37741b0ef>\u001b[0m in \u001b[0;36m<module>\u001b[0;34m()\u001b[0m\n\u001b[1;32m      1\u001b[0m \u001b[0;32mimport\u001b[0m \u001b[0msys\u001b[0m\u001b[0;34m\u001b[0m\u001b[0m\n\u001b[0;32m----> 2\u001b[0;31m \u001b[0;32mfrom\u001b[0m \u001b[0mfunctools\u001b[0m \u001b[0;32mimport\u001b[0m \u001b[0mlru_cache\u001b[0m\u001b[0;34m\u001b[0m\u001b[0m\n\u001b[0m\u001b[1;32m      3\u001b[0m \u001b[0;34m\u001b[0m\u001b[0m\n\u001b[1;32m      4\u001b[0m \u001b[0msys\u001b[0m\u001b[0;34m.\u001b[0m\u001b[0msetrecursionlimit\u001b[0m\u001b[0;34m(\u001b[0m\u001b[0;36m500\u001b[0m\u001b[0;34m*\u001b[0m\u001b[0;36m3\u001b[0m \u001b[0;34m+\u001b[0m \u001b[0;36m10\u001b[0m\u001b[0;34m)\u001b[0m\u001b[0;34m\u001b[0m\u001b[0m\n\u001b[1;32m      5\u001b[0m \u001b[0;34m\u001b[0m\u001b[0m\n",
      "\u001b[0;31mImportError\u001b[0m: cannot import name lru_cache"
     ]
    }
   ],
   "source": [
    "import sys\n",
    "from functools import lru_cache\n",
    "\n",
    "sys.setrecursionlimit(500*3 + 10)\n",
    "\n",
    "@lru_cache(maxsize = None)\n",
    "def count(height, remainder):\n",
    "    if remainder == 0:\n",
    "        return 1\n",
    "    elif remainder < height:\n",
    "        return 0\n",
    "    else:\n",
    "        return count(height + 1, remainder - height) + count(height + 1, remainder)\n",
    "    \n"
   ]
  },
  {
   "cell_type": "code",
   "execution_count": 32,
   "metadata": {},
   "outputs": [
    {
     "name": "stdout",
     "output_type": "stream",
     "text": [
      "1\n"
     ]
    }
   ],
   "source": [
    "print count(1, 4)-1 "
   ]
  },
  {
   "cell_type": "code",
   "execution_count": 1,
   "metadata": {},
   "outputs": [],
   "source": [
    "def answer(n):\n",
    "    mem = [[-1 for j in xrange(n + 2)] for i in xrange(n + 2)]\n",
    "    \n",
    "    def count(height, remainder):\n",
    "\n",
    "        if mem[height][remainder] != -1:\n",
    "            return mem[height][remainder]\n",
    "        if remainder == 0:\n",
    "            return 1\n",
    "        if remainder < height:\n",
    "            return 0\n",
    "        fin = count(height + 1, remainder - height) + count(height + 1, remainder)\n",
    "        mem[height][remainder] = fin\n",
    "        return fin\n",
    "    \n",
    "    return count(1, n)-1"
   ]
  },
  {
   "cell_type": "code",
   "execution_count": 2,
   "metadata": {
    "collapsed": true
   },
   "outputs": [],
   "source": [
    "n = 200\n",
    "\n",
    "# mem = [[-1 for j in xrange(n + 2)] for i in xrange(n + 2)]"
   ]
  },
  {
   "cell_type": "code",
   "execution_count": 3,
   "metadata": {},
   "outputs": [
    {
     "data": {
      "text/plain": [
       "487067745"
      ]
     },
     "execution_count": 3,
     "metadata": {},
     "output_type": "execute_result"
    }
   ],
   "source": [
    "answer(n)"
   ]
  },
  {
   "cell_type": "code",
   "execution_count": 44,
   "metadata": {},
   "outputs": [
    {
     "data": {
      "text/plain": [
       "202"
      ]
     },
     "execution_count": 44,
     "metadata": {},
     "output_type": "execute_result"
    }
   ],
   "source": [
    "len(mem)"
   ]
  },
  {
   "cell_type": "code",
   "execution_count": 45,
   "metadata": {},
   "outputs": [
    {
     "name": "stdout",
     "output_type": "stream",
     "text": [
      "CPU times: user 3 µs, sys: 7 µs, total: 10 µs\n",
      "Wall time: 13.8 µs\n"
     ]
    },
    {
     "data": {
      "text/plain": [
       "487067746"
      ]
     },
     "execution_count": 45,
     "metadata": {},
     "output_type": "execute_result"
    }
   ],
   "source": [
    "%time\n",
    "count(1, n)"
   ]
  },
  {
   "cell_type": "code",
   "execution_count": null,
   "metadata": {
    "collapsed": true
   },
   "outputs": [],
   "source": []
  }
 ],
 "metadata": {
  "anaconda-cloud": {},
  "kernelspec": {
   "display_name": "Python [default]",
   "language": "python",
   "name": "python2"
  },
  "language_info": {
   "codemirror_mode": {
    "name": "ipython",
    "version": 2
   },
   "file_extension": ".py",
   "mimetype": "text/x-python",
   "name": "python",
   "nbconvert_exporter": "python",
   "pygments_lexer": "ipython2",
   "version": "2.7.12"
  }
 },
 "nbformat": 4,
 "nbformat_minor": 1
}

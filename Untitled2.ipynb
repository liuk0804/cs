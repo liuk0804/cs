{
 "cells": [
  {
   "cell_type": "code",
   "execution_count": 1,
   "metadata": {},
   "outputs": [],
   "source": [
    "t = \"code\""
   ]
  },
  {
   "cell_type": "code",
   "execution_count": 2,
   "metadata": {},
   "outputs": [],
   "source": [
    "o = \"100100101010100110100010\""
   ]
  },
  {
   "cell_type": "code",
   "execution_count": 3,
   "metadata": {},
   "outputs": [
    {
     "data": {
      "text/plain": [
       "100100101010100110100010L"
      ]
     },
     "execution_count": 3,
     "metadata": {},
     "output_type": "execute_result"
    }
   ],
   "source": [
    "int(o)"
   ]
  },
  {
   "cell_type": "code",
   "execution_count": 4,
   "metadata": {},
   "outputs": [],
   "source": [
    "sign = 'The quick brown fox jumped over the lazy dog'"
   ]
  },
  {
   "cell_type": "code",
   "execution_count": 5,
   "metadata": {},
   "outputs": [],
   "source": [
    "a = '011110110010100010000000111110101001010100100100101000000000110000111010101010010111101110000000110100101010101101000000010110101001101100111100100010100110000000101010111001100010111010000000011110110010100010000000111000100000101011101111000000100110101010110110'"
   ]
  },
  {
   "cell_type": "code",
   "execution_count": 6,
   "metadata": {},
   "outputs": [
    {
     "data": {
      "text/plain": [
       "264"
      ]
     },
     "execution_count": 6,
     "metadata": {},
     "output_type": "execute_result"
    }
   ],
   "source": [
    "len(a)"
   ]
  },
  {
   "cell_type": "code",
   "execution_count": 10,
   "metadata": {},
   "outputs": [],
   "source": [
    "c = [a[i:i+6] for i in range(0, len(a), 6)]"
   ]
  },
  {
   "cell_type": "code",
   "execution_count": 14,
   "metadata": {},
   "outputs": [],
   "source": [
    "b = list(sign.lower())"
   ]
  },
  {
   "cell_type": "code",
   "execution_count": 16,
   "metadata": {},
   "outputs": [],
   "source": [
    "d = zip(b,c)"
   ]
  },
  {
   "cell_type": "code",
   "execution_count": 17,
   "metadata": {},
   "outputs": [
    {
     "data": {
      "text/plain": [
       "{(' ', '000000'),\n",
       " ('a', '100000'),\n",
       " ('b', '110000'),\n",
       " ('c', '100100'),\n",
       " ('d', '100110'),\n",
       " ('e', '100010'),\n",
       " ('f', '110100'),\n",
       " ('g', '110110'),\n",
       " ('h', '110010'),\n",
       " ('i', '010100'),\n",
       " ('j', '010110'),\n",
       " ('k', '101000'),\n",
       " ('l', '111000'),\n",
       " ('m', '101100'),\n",
       " ('n', '101110'),\n",
       " ('o', '101010'),\n",
       " ('p', '111100'),\n",
       " ('q', '111110'),\n",
       " ('r', '111010'),\n",
       " ('t', '011110'),\n",
       " ('u', '101001'),\n",
       " ('v', '111001'),\n",
       " ('w', '010111'),\n",
       " ('x', '101101'),\n",
       " ('y', '101111'),\n",
       " ('z', '101011')}"
      ]
     },
     "execution_count": 17,
     "metadata": {},
     "output_type": "execute_result"
    }
   ],
   "source": [
    "set(d)"
   ]
  },
  {
   "cell_type": "code",
   "execution_count": 18,
   "metadata": {},
   "outputs": [],
   "source": [
    "sign = 'The quick brown fox jumped over the lazy dog'\n",
    "code = \"011110110010100010000000111110101001010100100100101000000000110000111010101010010111101110000000110100101010101101000000010110101001101100111100100010100110000000101010111001100010111010000000011110110010100010000000111000100000101011101111000000100110101010110110\"\n",
    "chars = [code[i:i+6] for i in range(0, len(code), 6)]\n",
    "d = set(zip(list(sign.lower()), chars))"
   ]
  },
  {
   "cell_type": "code",
   "execution_count": 19,
   "metadata": {},
   "outputs": [
    {
     "data": {
      "text/plain": [
       "{(' ', '000000'),\n",
       " ('a', '100000'),\n",
       " ('b', '110000'),\n",
       " ('c', '100100'),\n",
       " ('d', '100110'),\n",
       " ('e', '100010'),\n",
       " ('f', '110100'),\n",
       " ('g', '110110'),\n",
       " ('h', '110010'),\n",
       " ('i', '010100'),\n",
       " ('j', '010110'),\n",
       " ('k', '101000'),\n",
       " ('l', '111000'),\n",
       " ('m', '101100'),\n",
       " ('n', '101110'),\n",
       " ('o', '101010'),\n",
       " ('p', '111100'),\n",
       " ('q', '111110'),\n",
       " ('r', '111010'),\n",
       " ('t', '011110'),\n",
       " ('u', '101001'),\n",
       " ('v', '111001'),\n",
       " ('w', '010111'),\n",
       " ('x', '101101'),\n",
       " ('y', '101111'),\n",
       " ('z', '101011')}"
      ]
     },
     "execution_count": 19,
     "metadata": {},
     "output_type": "execute_result"
    }
   ],
   "source": [
    "d"
   ]
  },
  {
   "cell_type": "code",
   "execution_count": 21,
   "metadata": {},
   "outputs": [],
   "source": [
    "d.add(('s', '011100'))"
   ]
  },
  {
   "cell_type": "code",
   "execution_count": 22,
   "metadata": {},
   "outputs": [
    {
     "data": {
      "text/plain": [
       "{(' ', '000000'),\n",
       " ('a', '100000'),\n",
       " ('b', '110000'),\n",
       " ('c', '100100'),\n",
       " ('d', '100110'),\n",
       " ('e', '100010'),\n",
       " ('f', '110100'),\n",
       " ('g', '110110'),\n",
       " ('h', '110010'),\n",
       " ('i', '010100'),\n",
       " ('j', '010110'),\n",
       " ('k', '101000'),\n",
       " ('l', '111000'),\n",
       " ('m', '101100'),\n",
       " ('n', '101110'),\n",
       " ('o', '101010'),\n",
       " ('p', '111100'),\n",
       " ('q', '111110'),\n",
       " ('r', '111010'),\n",
       " ('s', '011100'),\n",
       " ('t', '011110'),\n",
       " ('u', '101001'),\n",
       " ('v', '111001'),\n",
       " ('w', '010111'),\n",
       " ('x', '101101'),\n",
       " ('y', '101111'),\n",
       " ('z', '101011')}"
      ]
     },
     "execution_count": 22,
     "metadata": {},
     "output_type": "execute_result"
    }
   ],
   "source": [
    "d"
   ]
  },
  {
   "cell_type": "code",
   "execution_count": 25,
   "metadata": {},
   "outputs": [
    {
     "data": {
      "text/plain": [
       "set"
      ]
     },
     "execution_count": 25,
     "metadata": {},
     "output_type": "execute_result"
    }
   ],
   "source": [
    "type(d)"
   ]
  },
  {
   "cell_type": "code",
   "execution_count": 34,
   "metadata": {},
   "outputs": [],
   "source": [
    "sign = 'The quick brown fox jumped over the lazy dog'\n",
    "code = \"011110110010100010000000111110101001010100100100101000000000110000111010101010010111101110000000110100101010101101000000010110101001101100111100100010100110000000101010111001100010111010000000011110110010100010000000111000100000101011101111000000100110101010110110\"\n",
    "chars = [code[i:i+6] for i in range(0, len(code), 6)]\n",
    "diction_set = set(zip(list(sign.lower()), chars))\n",
    "diction_set.add(('s', '011100'))\n",
    "diction = {}\n",
    "for i, j in diction_set:\n",
    "    diction[i] = j"
   ]
  },
  {
   "cell_type": "code",
   "execution_count": 33,
   "metadata": {},
   "outputs": [
    {
     "data": {
      "text/plain": [
       "'000000'"
      ]
     },
     "execution_count": 33,
     "metadata": {},
     "output_type": "execute_result"
    }
   ],
   "source": [
    "dic[' ']"
   ]
  },
  {
   "cell_type": "code",
   "execution_count": 35,
   "metadata": {},
   "outputs": [
    {
     "data": {
      "text/plain": [
       "{' ': '000000',\n",
       " 'a': '100000',\n",
       " 'b': '110000',\n",
       " 'c': '100100',\n",
       " 'd': '100110',\n",
       " 'e': '100010',\n",
       " 'f': '110100',\n",
       " 'g': '110110',\n",
       " 'h': '110010',\n",
       " 'i': '010100',\n",
       " 'j': '010110',\n",
       " 'k': '101000',\n",
       " 'l': '111000',\n",
       " 'm': '101100',\n",
       " 'n': '101110',\n",
       " 'o': '101010',\n",
       " 'p': '111100',\n",
       " 'q': '111110',\n",
       " 'r': '111010',\n",
       " 's': '011100',\n",
       " 't': '011110',\n",
       " 'u': '101001',\n",
       " 'v': '111001',\n",
       " 'w': '010111',\n",
       " 'x': '101101',\n",
       " 'y': '101111',\n",
       " 'z': '101011'}"
      ]
     },
     "execution_count": 35,
     "metadata": {},
     "output_type": "execute_result"
    }
   ],
   "source": [
    "diction"
   ]
  },
  {
   "cell_type": "code",
   "execution_count": 36,
   "metadata": {},
   "outputs": [],
   "source": [
    "l = [\"1.1.2\", \"1.0\", \"1.3.3\", \"1.0.12\", \"1.0.2\"]"
   ]
  },
  {
   "cell_type": "code",
   "execution_count": 43,
   "metadata": {},
   "outputs": [
    {
     "name": "stdout",
     "output_type": "stream",
     "text": [
      "1\n",
      "1\n",
      "1\n",
      "1\n",
      "1\n"
     ]
    }
   ],
   "source": [
    "for i in l:\n",
    "    print int(i[0])"
   ]
  },
  {
   "cell_type": "code",
   "execution_count": 99,
   "metadata": {},
   "outputs": [],
   "source": [
    "l2 = [\"1.11\", \"2.0.0\", \"1.2\", \"2\", \"0.1\", \"1.2.1\", \"1.1.1\", \"2.0\"]"
   ]
  },
  {
   "cell_type": "code",
   "execution_count": 69,
   "metadata": {},
   "outputs": [
    {
     "ename": "SyntaxError",
     "evalue": "invalid syntax (<ipython-input-69-64010abe4a88>, line 4)",
     "output_type": "error",
     "traceback": [
      "\u001b[0;36m  File \u001b[0;32m\"<ipython-input-69-64010abe4a88>\"\u001b[0;36m, line \u001b[0;32m4\u001b[0m\n\u001b[0;31m    return major, minor, revision = map(int, l.split('.'))\u001b[0m\n\u001b[0m                                  ^\u001b[0m\n\u001b[0;31mSyntaxError\u001b[0m\u001b[0;31m:\u001b[0m invalid syntax\n"
     ]
    }
   ],
   "source": [
    "def parse_version(l2):\n",
    "    for l in l2:\n",
    "        if len(l.split('.')) == 3:\n",
    "            major, minor, revision = map(int, l.split('.'))\n",
    "        elif len(l.split('.')) == 2:\n",
    "            major, minor = map(int, l.split('.'))\n",
    "        else:\n",
    "            major = int(l)"
   ]
  },
  {
   "cell_type": "code",
   "execution_count": 66,
   "metadata": {},
   "outputs": [
    {
     "data": {
      "text/plain": [
       "[1, 11, 12]"
      ]
     },
     "execution_count": 66,
     "metadata": {},
     "output_type": "execute_result"
    }
   ],
   "source": [
    "map(int,'1.11.12'.split('.'))"
   ]
  },
  {
   "cell_type": "code",
   "execution_count": 68,
   "metadata": {},
   "outputs": [],
   "source": [
    "parse_version(l2)"
   ]
  },
  {
   "cell_type": "code",
   "execution_count": 76,
   "metadata": {},
   "outputs": [
    {
     "data": {
      "text/plain": [
       "['0.1', '1.2', '1.11', '1.2.1', '1.1.1', '2', '2.0', '2.0.0']"
      ]
     },
     "execution_count": 76,
     "metadata": {},
     "output_type": "execute_result"
    }
   ],
   "source": [
    "sorted(l2, key= lambda x:(int(x[0]), len(x)))"
   ]
  },
  {
   "cell_type": "code",
   "execution_count": 83,
   "metadata": {},
   "outputs": [
    {
     "data": {
      "text/plain": [
       "['0.1', '1.11', '1.2', '1.2.1', '1.1.1', '2.0.0', '2', '2.0']"
      ]
     },
     "execution_count": 83,
     "metadata": {},
     "output_type": "execute_result"
    }
   ],
   "source": [
    "l2"
   ]
  },
  {
   "cell_type": "code",
   "execution_count": 81,
   "metadata": {},
   "outputs": [],
   "source": [
    "l3 = []\n",
    "for i in l2:\n",
    "    if len(i.split('.')) == 3:\n",
    "        l3.append(int(i.replace('.','')))\n",
    "    elif len(i.split('.')) == 2:\n",
    "        l3.append(int(i.replace('.',''))*10)\n",
    "    else: \n",
    "        l3.append(int(i)*100)"
   ]
  },
  {
   "cell_type": "code",
   "execution_count": 82,
   "metadata": {},
   "outputs": [
    {
     "data": {
      "text/plain": [
       "[10, 1110, 120, 121, 111, 200, 200, 200]"
      ]
     },
     "execution_count": 82,
     "metadata": {},
     "output_type": "execute_result"
    }
   ],
   "source": [
    "l3"
   ]
  },
  {
   "cell_type": "code",
   "execution_count": null,
   "metadata": {},
   "outputs": [],
   "source": []
  },
  {
   "cell_type": "code",
   "execution_count": 71,
   "metadata": {},
   "outputs": [
    {
     "data": {
      "text/plain": [
       "['1.11', '2.0.0', '1.2', '2', '0.1', '1.2.1', '1.1.1', '2.0']"
      ]
     },
     "execution_count": 71,
     "metadata": {},
     "output_type": "execute_result"
    }
   ],
   "source": [
    "for l in l2:\n",
    "    \n",
    "    if len(l.split('.')) == 3:\n",
    "        major, minor, revision = map(int, l.split('.'))       \n",
    "    elif len(l.split('.')) == 2:\n",
    "        major, minor = map(int, l.split('.'))\n",
    "    else:\n",
    "        major = int(l)"
   ]
  },
  {
   "cell_type": "code",
   "execution_count": 105,
   "metadata": {},
   "outputs": [],
   "source": [
    "import re\n",
    "\n",
    "def mycmp(version1, version2):\n",
    "    def normalize(v):\n",
    "        return [int(x) for x in re.sub(r'\\.','', v).split(\".\")]\n",
    "    return cmp(normalize(version1), normalize(version2))"
   ]
  },
  {
   "cell_type": "code",
   "execution_count": 118,
   "metadata": {},
   "outputs": [],
   "source": [
    "def bubblesort(lst):\n",
    "    length = len(lst)\n",
    "    for i in range(length-1, -1, -1):\n",
    "        for j in range(i):\n",
    "            if mycmp(lst[j] , lst[j+1]) == 1:\n",
    "                lst[j], lst[j+1] = lst[j+1], lst[j]\n",
    "    return lst"
   ]
  },
  {
   "cell_type": "code",
   "execution_count": 124,
   "metadata": {},
   "outputs": [
    {
     "name": "stdout",
     "output_type": "stream",
     "text": [
      "['0.1', '2', '1.2', '2.0', '1.11', '1.1.1', '1.2.1', '2.0.0']\n",
      "['0.1', '1.2', '1.11', '1.1.1', '1.2.1', '2', '2.0', '2.0.0']\n"
     ]
    }
   ],
   "source": [
    "p = ['1','5','3','6','4']\n",
    "l3 = bubblesort(l2)\n",
    "print l3\n",
    "l4 = sorted(l3, key = lambda x: (x[0], len(x)))\n",
    "print l4"
   ]
  },
  {
   "cell_type": "code",
   "execution_count": 101,
   "metadata": {},
   "outputs": [],
   "source": [
    "for i in range(len(l2)-1, -1, -1):#range(length-1, -1, -1)\n",
    "    for j in range(i):#range(1, i)\n",
    "        if VersCamp(l2[j], l2[j+1]) == 1:\n",
    "            l2[j], l2[j+1] = l2[j+1], l2[j]\n",
    "\n"
   ]
  },
  {
   "cell_type": "code",
   "execution_count": 100,
   "metadata": {},
   "outputs": [
    {
     "data": {
      "text/plain": [
       "['1.11', '2.0.0', '1.2', '2', '0.1', '1.2.1', '1.1.1', '2.0']"
      ]
     },
     "execution_count": 100,
     "metadata": {},
     "output_type": "execute_result"
    }
   ],
   "source": [
    "l2"
   ]
  },
  {
   "cell_type": "code",
   "execution_count": 102,
   "metadata": {},
   "outputs": [
    {
     "data": {
      "text/plain": [
       "['0.1', '2', '1.2', '2.0', '1.11', '1.1.1', '1.2.1', '2.0.0']"
      ]
     },
     "execution_count": 102,
     "metadata": {},
     "output_type": "execute_result"
    }
   ],
   "source": [
    "l2"
   ]
  },
  {
   "cell_type": "code",
   "execution_count": 93,
   "metadata": {},
   "outputs": [
    {
     "data": {
      "text/plain": [
       "['2']"
      ]
     },
     "execution_count": 93,
     "metadata": {},
     "output_type": "execute_result"
    }
   ],
   "source": [
    "re.sub(r'(\\.0+)*$','', '2').split(\".\")"
   ]
  },
  {
   "cell_type": "code",
   "execution_count": 139,
   "metadata": {},
   "outputs": [
    {
     "data": {
      "text/plain": [
       "0"
      ]
     },
     "execution_count": 139,
     "metadata": {},
     "output_type": "execute_result"
    }
   ],
   "source": [
    "compareVersion('2', '2.0')"
   ]
  },
  {
   "cell_type": "code",
   "execution_count": 126,
   "metadata": {},
   "outputs": [],
   "source": [
    "def compareVersion(version1, version2):\n",
    "    for i, j in itertools.izip_longest(version1.split('.'), version2.split('.'), fillvalue='0'):\n",
    "        i, j = int(i), int(j)\n",
    "        if i < j:\n",
    "            return -1\n",
    "        if i > j:\n",
    "            return 1\n",
    "    return 0"
   ]
  },
  {
   "cell_type": "code",
   "execution_count": 128,
   "metadata": {},
   "outputs": [],
   "source": [
    "import itertools"
   ]
  },
  {
   "cell_type": "code",
   "execution_count": 166,
   "metadata": {},
   "outputs": [],
   "source": [
    "import itertools\n",
    "\n",
    "def compareVersion(version1, version2):\n",
    "    for i, j in itertools.izip_longest(version1.split('.'), version2.split('.'), fillvalue='0'):\n",
    "        i, j = int(i), int(j)\n",
    "        if i < j:\n",
    "            return -1\n",
    "            break\n",
    "        elif i > j:\n",
    "            return 1\n",
    "            break\n",
    "    if len(version1) > len(version2):\n",
    "        return 1\n",
    "    else:\n",
    "        return -1\n",
    "    return 0\n",
    "def bubblesort(lst):\n",
    "    length = len(lst)\n",
    "    for i in range(length-1, -1, -1):\n",
    "        for j in range(i):\n",
    "            if compareVersion(lst[j] , lst[j+1]) == 1:\n",
    "                lst[j], lst[j+1] = lst[j+1], lst[j]\n",
    "#     lst = sorted(lst, key = lambda x: (x[0],len(x)))\n",
    "    return lst\n",
    "\n",
    "def answer(l):\n",
    "    return bubblesort(l)"
   ]
  },
  {
   "cell_type": "code",
   "execution_count": 167,
   "metadata": {},
   "outputs": [
    {
     "data": {
      "text/plain": [
       "['0.1', '1.1.1', '1.2', '1.2.1', '1.11', '2', '2.0', '2.0.0']"
      ]
     },
     "execution_count": 167,
     "metadata": {},
     "output_type": "execute_result"
    }
   ],
   "source": [
    "answer(l2)"
   ]
  },
  {
   "cell_type": "code",
   "execution_count": 162,
   "metadata": {},
   "outputs": [],
   "source": [
    "l2 =  [\"1.11\", \"2.0.0\", \"1.2\", \"2\", \"0.1\", \"1.2.1\", \"1.1.1\", \"2.0\"]"
   ]
  },
  {
   "cell_type": "code",
   "execution_count": 138,
   "metadata": {},
   "outputs": [
    {
     "data": {
      "text/plain": [
       "['0.1', '1.1.1', '1.2', '1.2.1', '1.11', '2', '2.0', '2.0.0']"
      ]
     },
     "execution_count": 138,
     "metadata": {},
     "output_type": "execute_result"
    }
   ],
   "source": [
    "[\"0.1\", \"1.1.1\", \"1.2\", \"1.2.1\", \"1.11\", \"2\", \"2.0\", \"2.0.0\"]"
   ]
  },
  {
   "cell_type": "code",
   "execution_count": 136,
   "metadata": {},
   "outputs": [
    {
     "data": {
      "text/plain": [
       "['1.0', '1.0.2', '1.0.12', '1.1.2', '1.3.3']"
      ]
     },
     "execution_count": 136,
     "metadata": {},
     "output_type": "execute_result"
    }
   ],
   "source": [
    "[\"1.0\", \"1.0.2\", \"1.0.12\", \"1.1.2\", \"1.3.3\"]"
   ]
  },
  {
   "cell_type": "code",
   "execution_count": 134,
   "metadata": {},
   "outputs": [],
   "source": [
    "l22 = [\"1.1.2\", \"1.0\", \"1.3.3\", \"1.0.12\", \"1.0.2\"]"
   ]
  },
  {
   "cell_type": "code",
   "execution_count": 152,
   "metadata": {},
   "outputs": [],
   "source": [
    "version1 = '1.2'\n",
    "version2 = '1.2.1'"
   ]
  },
  {
   "cell_type": "code",
   "execution_count": 154,
   "metadata": {},
   "outputs": [
    {
     "name": "stdout",
     "output_type": "stream",
     "text": [
      "1 1\n",
      "2 2\n",
      "0 1\n"
     ]
    }
   ],
   "source": [
    "for i, j in itertools.izip_longest(version1.split('.'), version2.split('.'), fillvalue='0'):\n",
    "    print i,j"
   ]
  },
  {
   "cell_type": "code",
   "execution_count": 165,
   "metadata": {},
   "outputs": [
    {
     "data": {
      "text/plain": [
       "1"
      ]
     },
     "execution_count": 165,
     "metadata": {},
     "output_type": "execute_result"
    }
   ],
   "source": [
    "compareVersion('2','2.0')"
   ]
  },
  {
   "cell_type": "code",
   "execution_count": 168,
   "metadata": {},
   "outputs": [],
   "source": [
    "l = [3, 1, 4, 1]"
   ]
  },
  {
   "cell_type": "code",
   "execution_count": 193,
   "metadata": {},
   "outputs": [
    {
     "data": {
      "text/plain": [
       "4311"
      ]
     },
     "execution_count": 193,
     "metadata": {},
     "output_type": "execute_result"
    }
   ],
   "source": [
    "max(bf)"
   ]
  },
  {
   "cell_type": "code",
   "execution_count": 186,
   "metadata": {},
   "outputs": [],
   "source": [
    "def makeNum(lst):\n",
    "    s = ''.join(map(str, lst))\n",
    "    return int(s)"
   ]
  },
  {
   "cell_type": "code",
   "execution_count": 209,
   "metadata": {},
   "outputs": [],
   "source": [
    "import heapq\n",
    "import itertools\n",
    "\n",
    "def find(l):\n",
    "    bf = []\n",
    "    for L in range(len(l)-1 , len(l)+1):\n",
    "            for subset in itertools.permutations(l, L):\n",
    "                    dg = int(''.join(map(str,subset)))\n",
    "                    if dg%3 == 0:\n",
    "                        bf.append(dg)\n",
    "    if len(bf) > 1:\n",
    "        return heapq.nlargest(1, bf)[0]\n",
    "    else:\n",
    "        return 0"
   ]
  },
  {
   "cell_type": "code",
   "execution_count": 259,
   "metadata": {},
   "outputs": [],
   "source": [
    "import itertools\n",
    "\n",
    "def find(l):\n",
    "    di = [i for i in l if i%3 == 0]\n",
    "    od = [i for i in l if i%3 != 0]\n",
    "    bf = []\n",
    "    for L in range(len(od)-1 , len(od)+1):\n",
    "        for subset in itertools.permutations(od, L):\n",
    "            if sum(subset) % 3 == 0:\n",
    "                bf.append(int(''.join(map(str,(list(subset)+ di)))))\n",
    "    pp = max(bf)\n",
    "    qq = [int(d) for d in str(pp)]\n",
    "    qq.sort(reverse = True)\n",
    "    qqp = int(''.join(map(str, qq)))\n",
    "    return qqp\n",
    "        "
   ]
  },
  {
   "cell_type": "code",
   "execution_count": 260,
   "metadata": {},
   "outputs": [
    {
     "data": {
      "text/plain": [
       "94311"
      ]
     },
     "execution_count": 260,
     "metadata": {},
     "output_type": "execute_result"
    }
   ],
   "source": [
    "find(l)"
   ]
  },
  {
   "cell_type": "code",
   "execution_count": 212,
   "metadata": {},
   "outputs": [],
   "source": [
    "l = [3, 1, 4, 1, 5, 9]"
   ]
  },
  {
   "cell_type": "code",
   "execution_count": null,
   "metadata": {},
   "outputs": [],
   "source": [
    "l = [3, 1, 4, 1, 5, 9]\n",
    "for L in range(len(l), len(l)+1):\n",
    "    "
   ]
  },
  {
   "cell_type": "code",
   "execution_count": null,
   "metadata": {},
   "outputs": [],
   "source": [
    "heapq.nlargest(100, iterable [,key])"
   ]
  },
  {
   "cell_type": "code",
   "execution_count": 198,
   "metadata": {},
   "outputs": [],
   "source": [
    "import heapq"
   ]
  },
  {
   "cell_type": "code",
   "execution_count": 267,
   "metadata": {},
   "outputs": [],
   "source": [
    "def answer(M, F):\n",
    "    m = int(M)\n",
    "    f = int(F)\n",
    "    generations = 0\n",
    "\n",
    "    if m%2 == 0 and f%2 == 0:\n",
    "        return 'impossible'\n",
    "        \n",
    "    while m != 1 or f != 1:\n",
    "        if m == 1:\n",
    "            generations += f - 1\n",
    "            break\n",
    "        elif f == 1:\n",
    "            generations += m - 1\n",
    "            break\n",
    "        elif m < f:\n",
    "            if m == 0:\n",
    "                return 'impossible'\n",
    "                break\n",
    "            else:\n",
    "                generations += f//m\n",
    "                f %= m\n",
    "        elif m > f:\n",
    "            if f == 0:\n",
    "                return 'impossible'\n",
    "                break\n",
    "            else:\n",
    "                generations += m//f\n",
    "                m %= f\n",
    "    return str(generations)"
   ]
  },
  {
   "cell_type": "code",
   "execution_count": 268,
   "metadata": {},
   "outputs": [
    {
     "data": {
      "text/plain": [
       "'4'"
      ]
     },
     "execution_count": 268,
     "metadata": {},
     "output_type": "execute_result"
    }
   ],
   "source": [
    "answer(4, 7)"
   ]
  },
  {
   "cell_type": "code",
   "execution_count": 275,
   "metadata": {},
   "outputs": [
    {
     "name": "stdout",
     "output_type": "stream",
     "text": [
      "['h', 'e', 'g', 'f']\n",
      "2\n"
     ]
    }
   ],
   "source": [
    "t ='hegf'\n",
    "a = list(t)\n",
    "i = len(a) -2\n",
    "j = len(a) - 1\n",
    "print a\n",
    "print i"
   ]
  },
  {
   "cell_type": "code",
   "execution_count": 271,
   "metadata": {},
   "outputs": [
    {
     "name": "stdout",
     "output_type": "stream",
     "text": [
      "g\n",
      "f\n"
     ]
    }
   ],
   "source": [
    "print a[i]\n",
    "print a[i+1]"
   ]
  },
  {
   "cell_type": "code",
   "execution_count": 274,
   "metadata": {},
   "outputs": [
    {
     "data": {
      "text/plain": [
       "True"
      ]
     },
     "execution_count": 274,
     "metadata": {},
     "output_type": "execute_result"
    }
   ],
   "source": [
    "'g' > 'f'\n"
   ]
  },
  {
   "cell_type": "code",
   "execution_count": 276,
   "metadata": {},
   "outputs": [
    {
     "data": {
      "text/plain": [
       "'f'"
      ]
     },
     "execution_count": 276,
     "metadata": {},
     "output_type": "execute_result"
    }
   ],
   "source": [
    "a[j]"
   ]
  },
  {
   "cell_type": "code",
   "execution_count": 286,
   "metadata": {},
   "outputs": [
    {
     "data": {
      "text/plain": [
       "6"
      ]
     },
     "execution_count": 286,
     "metadata": {},
     "output_type": "execute_result"
    }
   ],
   "source": [
    "v = [2, 4]\n",
    "reduce(lambda x,y:x^y, v)"
   ]
  },
  {
   "cell_type": "code",
   "execution_count": 287,
   "metadata": {},
   "outputs": [],
   "source": [
    "m = 4\n",
    "n = 10\n",
    "c = [2, 5, 3, 6]"
   ]
  },
  {
   "cell_type": "code",
   "execution_count": 295,
   "metadata": {},
   "outputs": [],
   "source": [
    "m =4 \n",
    "n = 3\n",
    "c = [1,2,3]"
   ]
  },
  {
   "cell_type": "code",
   "execution_count": 290,
   "metadata": {},
   "outputs": [],
   "source": [
    "import itertools"
   ]
  },
  {
   "cell_type": "code",
   "execution_count": 293,
   "metadata": {},
   "outputs": [],
   "source": [
    "def getWays(n, c):\n",
    "    c = sorted(c)\n",
    "    permu = 0\n",
    "    for i in range(m):\n",
    "        iters = itertools.permutations(c, i)\n",
    "        for j in iters:\n",
    "            if sum(j) == n:\n",
    "                permu += 1\n",
    "    return permu"
   ]
  },
  {
   "cell_type": "code",
   "execution_count": 296,
   "metadata": {},
   "outputs": [
    {
     "data": {
      "text/plain": [
       "3"
      ]
     },
     "execution_count": 296,
     "metadata": {},
     "output_type": "execute_result"
    }
   ],
   "source": [
    "getWays(n, c)"
   ]
  },
  {
   "cell_type": "code",
   "execution_count": null,
   "metadata": {},
   "outputs": [],
   "source": []
  },
  {
   "cell_type": "code",
   "execution_count": null,
   "metadata": {},
   "outputs": [],
   "source": []
  }
 ],
 "metadata": {
  "kernelspec": {
   "display_name": "Python [default]",
   "language": "python",
   "name": "python2"
  },
  "language_info": {
   "codemirror_mode": {
    "name": "ipython",
    "version": 2
   },
   "file_extension": ".py",
   "mimetype": "text/x-python",
   "name": "python",
   "nbconvert_exporter": "python",
   "pygments_lexer": "ipython2",
   "version": "2.7.12"
  }
 },
 "nbformat": 4,
 "nbformat_minor": 2
}

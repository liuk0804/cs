{
 "cells": [
  {
   "cell_type": "code",
   "execution_count": null,
   "metadata": {},
   "outputs": [],
   "source": []
  },
  {
   "cell_type": "code",
   "execution_count": 1,
   "metadata": {},
   "outputs": [],
   "source": [
    "from fractions import Fraction\n",
    "from fractions import gcd\n",
    "\n",
    "def dot(X, Y):\n",
    "    result = []\n",
    "    for i in range(len(X)):\n",
    "        result.append([0]*len(Y[0]))\n",
    "\n",
    "    for i in range(len(X)):\n",
    "       # iterate through columns of Y\n",
    "       for j in range(len(Y[0])):\n",
    "           # iterate through rows of Y\n",
    "           for k in range(len(Y)):\n",
    "                result[i][j] += X[i][k] * Y[k][j]\n",
    "    return result\n",
    "\n",
    "def lcm(a,b):\n",
    "    return a * b // gcd(a, b)\n",
    "\n",
    "def answer(m):\n",
    "    # translate into fraction probability representation\n",
    "    for i in range(len(m)):\n",
    "        sum_i = sum(m[i])\n",
    "        if sum_i != 0:\n",
    "            for j in range(len(m)):\n",
    "                m[i][j] = Fraction(m[i][j], sum_i)\n",
    " \n",
    "    # edit identitfy metrix\n",
    "    for i in range(2,len(m)):\n",
    "        m[i][i] = 1\n",
    "    # construct I, R, Q, F metrix\n",
    "    Q = [[m[0][0], m[0][1]], [m[1][0], m[1][1]]]\n",
    "    I = [[m[-2][-2], m[-2][-1]], [m[-1][-2], m[-1][-1]]]\n",
    "    \n",
    "    # F = (I-Q)^-1\n",
    "    F1 = [[I[0][0] - Q[0][0], I[0][1] - Q[0][1]], [I[1][0] - Q[1][0], I[1][1] - Q[1][1]]]\n",
    "    a, b, c, d = F1[0][0], F1[0][1], F1[1][0], F1[1][1]\n",
    "    e = Fraction(1, a*d-b*c)\n",
    "    F = [[d*e, -b*e], [-c*e, a*e]]\n",
    "    \n",
    "    R = [[row[ci] for ci in range(2,len(m))] for row in m ][:2]\n",
    "    # result array\n",
    "    p_bar = dot(F, R)[0]\n",
    "    # finding least common denominator\n",
    "    deno = [i.denominator for i in p_bar]\n",
    "    denominator = reduce(lcm, deno)\n",
    "    \n",
    "    fin = [i.numerator*(denominator/i.denominator) for i in p_bar]\n",
    "    fin.append(denominator)\n",
    "    \n",
    "    return fin\n",
    "    "
   ]
  },
  {
   "cell_type": "code",
   "execution_count": 74,
   "metadata": {},
   "outputs": [],
   "source": [
    "m = [\n",
    "   [0, 1, 0, 0, 0, 1],\n",
    "   [4, 0, 0, 3, 2, 0],\n",
    "   [0, 0, 0, 0, 0, 0],\n",
    "   [0, 0, 0, 0, 0, 0],\n",
    "   [0, 0, 0, 0, 0, 0],\n",
    "   [0, 0, 0, 0, 0, 0],\n",
    " ]"
   ]
  },
  {
   "cell_type": "code",
   "execution_count": 12,
   "metadata": {},
   "outputs": [],
   "source": [
    "import array"
   ]
  },
  {
   "cell_type": "code",
   "execution_count": 17,
   "metadata": {},
   "outputs": [
    {
     "ename": "TypeError",
     "evalue": "array() argument 1 or typecode must be char (string or ascii-unicode with length 1), not list",
     "output_type": "error",
     "traceback": [
      "\u001b[0;31m---------------------------------------------------------------------------\u001b[0m",
      "\u001b[0;31mTypeError\u001b[0m                                 Traceback (most recent call last)",
      "\u001b[0;32m<ipython-input-17-0c93eb37664a>\u001b[0m in \u001b[0;36m<module>\u001b[0;34m()\u001b[0m\n\u001b[0;32m----> 1\u001b[0;31m \u001b[0marray\u001b[0m\u001b[0;34m.\u001b[0m\u001b[0marray\u001b[0m\u001b[0;34m(\u001b[0m\u001b[0mm\u001b[0m\u001b[0;34m)\u001b[0m\u001b[0;34m\u001b[0m\u001b[0m\n\u001b[0m",
      "\u001b[0;31mTypeError\u001b[0m: array() argument 1 or typecode must be char (string or ascii-unicode with length 1), not list"
     ]
    }
   ],
   "source": [
    "array.array"
   ]
  },
  {
   "cell_type": "code",
   "execution_count": 3,
   "metadata": {},
   "outputs": [
    {
     "data": {
      "text/plain": [
       "[0, 3, 2, 9, 14]"
      ]
     },
     "execution_count": 3,
     "metadata": {},
     "output_type": "execute_result"
    }
   ],
   "source": [
    "answer(m)"
   ]
  },
  {
   "cell_type": "code",
   "execution_count": 4,
   "metadata": {},
   "outputs": [
    {
     "data": {
      "text/plain": [
       "[0, 3, 2, 9, 14]"
      ]
     },
     "execution_count": 4,
     "metadata": {},
     "output_type": "execute_result"
    }
   ],
   "source": [
    "m1  = [[0, 2, 1, 0, 0], [0, 0, 0, 3, 4], [0, 0, 0, 0, 0], [0, 0, 0, 0, 0], [0, 0, 0, 0, 0]]\n",
    "answer(m1)"
   ]
  },
  {
   "cell_type": "code",
   "execution_count": 5,
   "metadata": {},
   "outputs": [
    {
     "data": {
      "text/plain": [
       "[0, 3, 2, 9, 14]"
      ]
     },
     "execution_count": 5,
     "metadata": {},
     "output_type": "execute_result"
    }
   ],
   "source": [
    "m3 = [[0, 1, 0, 0, 0, 1], [4, 0, 0, 3, 2, 0], [0, 0, 0, 0, 0, 0], [0, 0, 0, 0, 0, 0], [0, 0, 0, 0, 0, 0], [0, 0, 0, 0, 0, 0]]\n",
    "answer(m3)"
   ]
  },
  {
   "cell_type": "code",
   "execution_count": 60,
   "metadata": {},
   "outputs": [
    {
     "data": {
      "text/plain": [
       "[[0, 1, 0, 0, 0, 1],\n",
       " [4, 0, 0, 3, 2, 0],\n",
       " [0, 0, 0, 0, 0, 0],\n",
       " [0, 0, 0, 0, 0, 0],\n",
       " [0, 0, 0, 0, 0, 0],\n",
       " [0, 0, 0, 0, 0, 0]]"
      ]
     },
     "execution_count": 60,
     "metadata": {},
     "output_type": "execute_result"
    }
   ],
   "source": [
    "m"
   ]
  },
  {
   "cell_type": "code",
   "execution_count": 25,
   "metadata": {},
   "outputs": [],
   "source": [
    "def matrix_sub(X, Y):\n",
    "    result = []\n",
    "    for i in range(len(X)):\n",
    "        result.append([0]*len(Y[0]))\n",
    "\n",
    "    for i in range(len(X)):\n",
    "        for j in range(len(X[0])):\n",
    "            result[i][j] = X[i][j] - Y[i][j]\n",
    "    return result"
   ]
  },
  {
   "cell_type": "code",
   "execution_count": 24,
   "metadata": {},
   "outputs": [
    {
     "name": "stdout",
     "output_type": "stream",
     "text": [
      "[9, 9, 9]\n",
      "[9, 9, 9]\n",
      "[9, 9, 9]\n"
     ]
    }
   ],
   "source": [
    "matrix1 = [[10, 11, 12],\n",
    "\t   [13, 14, 15],\n",
    "\t   [16, 17, 18]]\n",
    "matrix2 = [[1, 2, 3],\n",
    "\t   [4, 5, 6],\n",
    "\t   [7, 8, 9]]\n",
    "rmatrix = [[0, 0, 0],\n",
    "\t   [0, 0, 0],\n",
    "\t   [0, 0, 0]]\n",
    "for i in range(len(matrix1)):\n",
    "\tfor j in range(len(matrix1[0])):\n",
    "\t\trmatrix[i][j] = matrix1[i][j] - matrix2[i][j]\n",
    "\n",
    "\t\t\n",
    "for r in rmatrix:\n",
    "\tprint(r)"
   ]
  },
  {
   "cell_type": "code",
   "execution_count": 26,
   "metadata": {},
   "outputs": [
    {
     "data": {
      "text/plain": [
       "[[9, 9, 9], [9, 9, 9], [9, 9, 9]]"
      ]
     },
     "execution_count": 26,
     "metadata": {},
     "output_type": "execute_result"
    }
   ],
   "source": [
    "matrix_sub(matrix1, matrix2)"
   ]
  },
  {
   "cell_type": "code",
   "execution_count": null,
   "metadata": {},
   "outputs": [],
   "source": []
  },
  {
   "cell_type": "code",
   "execution_count": 57,
   "metadata": {},
   "outputs": [],
   "source": [
    "\n",
    "def invert(X):\n",
    "\n",
    "    rows = len(X)\n",
    "    cols = len(X[0])\n",
    "\n",
    "    identity = make_identity(rows,cols)\n",
    "    for i in xrange(0,rows):\n",
    "        X[i]+=identity[i]\n",
    "\n",
    "    i = 0\n",
    "    for j in xrange(0,cols):\n",
    "        zero_sum, first_non_zero = check_for_all_zeros(X,i,j)\n",
    "        if zero_sum==0:\n",
    "            if j==cols:\n",
    "                return X\n",
    "            raise Exception(\"Matrix is singular.\")\n",
    "        if first_non_zero != i:\n",
    "            X = swap_row(X,i,first_non_zero)\n",
    "        X[i] = [m/X[i][j] for m in X[i]]\n",
    "\n",
    "        for q in xrange(0,rows):\n",
    "            if q!=i:\n",
    "                scaled_row = [X[q][j] * m for m in X[i]]\n",
    "                X[q]= [X[q][m] - scaled_row[m] for m in xrange(0,len(scaled_row))]\n",
    "        if i==rows or j==cols:\n",
    "            break\n",
    "        i+=1\n",
    "\n",
    "    for i in xrange(0,rows):\n",
    "        X[i] = X[i][cols:len(X[i])]\n",
    "\n",
    "    return X\n",
    "\n",
    "def check_for_all_zeros(X,i,j):\n",
    "    non_zeros = []\n",
    "    first_non_zero = -1\n",
    "    for m in xrange(i,len(X)):\n",
    "        non_zero = X[m][j]!=0\n",
    "        non_zeros.append(non_zero)\n",
    "        if first_non_zero==-1 and non_zero:\n",
    "            first_non_zero = m\n",
    "    zero_sum = sum(non_zeros)\n",
    "    return zero_sum, first_non_zero\n",
    "\n",
    "def swap_row(X,i,p):\n",
    "    X[p], X[i] = X[i], X[p]\n",
    "    return X\n",
    "\n",
    "def make_identity(r,c):\n",
    "    identity = []\n",
    "    for i in xrange(0,r):\n",
    "        row = []\n",
    "        for j in xrange(0,c):\n",
    "            elem = 0\n",
    "            if i==j:\n",
    "                elem = 1\n",
    "            row.append(elem)\n",
    "        identity.append(row)\n",
    "    return identity"
   ]
  },
  {
   "cell_type": "code",
   "execution_count": 58,
   "metadata": {},
   "outputs": [],
   "source": [
    "a = [[1, -Fraction(1,2)],[-Fraction(4,9), 1]]"
   ]
  },
  {
   "cell_type": "code",
   "execution_count": 59,
   "metadata": {},
   "outputs": [
    {
     "data": {
      "text/plain": [
       "[[Fraction(9, 7), Fraction(9, 14)], [Fraction(4, 7), Fraction(9, 7)]]"
      ]
     },
     "execution_count": 59,
     "metadata": {},
     "output_type": "execute_result"
    }
   ],
   "source": [
    "invert(a)"
   ]
  },
  {
   "cell_type": "code",
   "execution_count": 47,
   "metadata": {},
   "outputs": [],
   "source": [
    "def I_metrix(l):\n",
    "    identity = []\n",
    "    for i in range(l):\n",
    "        row = []\n",
    "        for j in xrange(l):\n",
    "            val = 0\n",
    "            if i==j:\n",
    "                val = 1\n",
    "            row.append(val)\n",
    "        identity.append(row)\n",
    "    return identity\n",
    "\n",
    "def swap(X,a,b):\n",
    "    X[b], X[a] = X[a], X[b]\n",
    "    return X"
   ]
  },
  {
   "cell_type": "code",
   "execution_count": 49,
   "metadata": {},
   "outputs": [
    {
     "data": {
      "text/plain": [
       "[[1, 0, 0, 0, 0],\n",
       " [0, 1, 0, 0, 0],\n",
       " [0, 0, 1, 0, 0],\n",
       " [0, 0, 0, 1, 0],\n",
       " [0, 0, 0, 0, 1]]"
      ]
     },
     "execution_count": 49,
     "metadata": {},
     "output_type": "execute_result"
    }
   ],
   "source": [
    "I_metrix(5)"
   ]
  },
  {
   "cell_type": "code",
   "execution_count": null,
   "metadata": {},
   "outputs": [],
   "source": [
    "m = "
   ]
  },
  {
   "cell_type": "code",
   "execution_count": 61,
   "metadata": {},
   "outputs": [],
   "source": [
    "if len(m) > 1:\n",
    "    sum_mark = []\n",
    "    for i in range(len(m)):\n",
    "        sum_i = sum(m[i])\n",
    "        sum_mark.append(sum_i)\n",
    "        if sum_i != 0:\n",
    "            for j in range(len(m)):\n",
    "                m[i][j] = Fraction(m[i][j], sum_i)"
   ]
  },
  {
   "cell_type": "code",
   "execution_count": 62,
   "metadata": {},
   "outputs": [],
   "source": [
    "term = 0\n",
    "for i in range(len(sum_mark)):\n",
    "    if sum_mark[i] == 0:\n",
    "        term = i\n",
    "        break"
   ]
  },
  {
   "cell_type": "code",
   "execution_count": 63,
   "metadata": {},
   "outputs": [
    {
     "data": {
      "text/plain": [
       "2"
      ]
     },
     "execution_count": 63,
     "metadata": {},
     "output_type": "execute_result"
    }
   ],
   "source": [
    "term"
   ]
  },
  {
   "cell_type": "code",
   "execution_count": 64,
   "metadata": {},
   "outputs": [],
   "source": [
    "def creat_empty_I_metrix(L):\n",
    "    result = []\n",
    "    for i in range(L):\n",
    "        result.append([0]*L)\n",
    "    return result"
   ]
  },
  {
   "cell_type": "code",
   "execution_count": 66,
   "metadata": {},
   "outputs": [
    {
     "data": {
      "text/plain": [
       "[[0, 0, 0, 0, 0],\n",
       " [0, 0, 0, 0, 0],\n",
       " [0, 0, 0, 0, 0],\n",
       " [0, 0, 0, 0, 0],\n",
       " [0, 0, 0, 0, 0]]"
      ]
     },
     "execution_count": 66,
     "metadata": {},
     "output_type": "execute_result"
    }
   ],
   "source": [
    "creat_empty_I_metrix(5)"
   ]
  },
  {
   "cell_type": "code",
   "execution_count": 67,
   "metadata": {},
   "outputs": [
    {
     "data": {
      "text/plain": [
       "[[Fraction(0, 1),\n",
       "  Fraction(1, 2),\n",
       "  Fraction(0, 1),\n",
       "  Fraction(0, 1),\n",
       "  Fraction(0, 1),\n",
       "  Fraction(1, 2)],\n",
       " [Fraction(4, 9),\n",
       "  Fraction(0, 1),\n",
       "  Fraction(0, 1),\n",
       "  Fraction(1, 3),\n",
       "  Fraction(2, 9),\n",
       "  Fraction(0, 1)],\n",
       " [0, 0, 0, 0, 0, 0],\n",
       " [0, 0, 0, 0, 0, 0],\n",
       " [0, 0, 0, 0, 0, 0],\n",
       " [0, 0, 0, 0, 0, 0]]"
      ]
     },
     "execution_count": 67,
     "metadata": {},
     "output_type": "execute_result"
    }
   ],
   "source": [
    "m"
   ]
  },
  {
   "cell_type": "code",
   "execution_count": 68,
   "metadata": {},
   "outputs": [],
   "source": [
    "term = 2"
   ]
  },
  {
   "cell_type": "code",
   "execution_count": 69,
   "metadata": {},
   "outputs": [],
   "source": [
    "Q = creat_empty_I_metrix(term)\n",
    "for i in range(term):\n",
    "    for j in range(term):\n",
    "        Q[i][j] = m[i][j]"
   ]
  },
  {
   "cell_type": "code",
   "execution_count": 70,
   "metadata": {},
   "outputs": [
    {
     "data": {
      "text/plain": [
       "[[Fraction(0, 1), Fraction(1, 2)], [Fraction(4, 9), Fraction(0, 1)]]"
      ]
     },
     "execution_count": 70,
     "metadata": {},
     "output_type": "execute_result"
    }
   ],
   "source": [
    "Q"
   ]
  },
  {
   "cell_type": "code",
   "execution_count": 71,
   "metadata": {},
   "outputs": [],
   "source": [
    "def I_metrix(l):\n",
    "    identity = []\n",
    "    for i in range(l):\n",
    "        row = []\n",
    "        for j in xrange(l):\n",
    "            val = 0\n",
    "            if i==j:\n",
    "                val = 1\n",
    "            row.append(val)\n",
    "        identity.append(row)\n",
    "    return identity"
   ]
  },
  {
   "cell_type": "code",
   "execution_count": 72,
   "metadata": {},
   "outputs": [
    {
     "data": {
      "text/plain": [
       "[[1, 0, 0, 0, 0],\n",
       " [0, 1, 0, 0, 0],\n",
       " [0, 0, 1, 0, 0],\n",
       " [0, 0, 0, 1, 0],\n",
       " [0, 0, 0, 0, 1]]"
      ]
     },
     "execution_count": 72,
     "metadata": {},
     "output_type": "execute_result"
    }
   ],
   "source": [
    "I_metrix(5)"
   ]
  },
  {
   "cell_type": "code",
   "execution_count": 142,
   "metadata": {},
   "outputs": [],
   "source": [
    "from fractions import Fraction\n",
    "from fractions import gcd\n",
    "\n",
    "def creat_empty_I_metrix(L):\n",
    "    result = []\n",
    "    for i in range(L):\n",
    "        result.append([0]*L)\n",
    "    return result\n",
    "\n",
    "def matrix_sub(X, Y):\n",
    "    result = []\n",
    "    for i in range(len(X)):\n",
    "        result.append([0]*len(Y[0]))\n",
    "\n",
    "    for i in range(len(X)):\n",
    "        for j in range(len(X[0])):\n",
    "            result[i][j] = X[i][j] - Y[i][j]\n",
    "    return result\n",
    "\n",
    "def dot(X, Y):\n",
    "    result = []\n",
    "    for i in range(len(X)):\n",
    "        result.append([0]*len(Y[0]))\n",
    "\n",
    "    for i in range(len(X)):\n",
    "       # iterate through columns of Y\n",
    "       for j in range(len(Y[0])):\n",
    "           # iterate through rows of Y\n",
    "           for k in range(len(Y)):\n",
    "                result[i][j] += X[i][k] * Y[k][j]\n",
    "    return result\n",
    "\n",
    "def I_metrix(l):\n",
    "    identity = []\n",
    "    for i in range(l):\n",
    "        row = []\n",
    "        for j in xrange(l):\n",
    "            val = 0\n",
    "            if i==j:\n",
    "                val = 1\n",
    "            row.append(val)\n",
    "        identity.append(row)\n",
    "    return identity\n",
    "def swap(X,a,b):\n",
    "    X[b], X[a] = X[a], X[b]\n",
    "    return X\n",
    "# use Func Swap & I_metrix implement Matrix Inverse Function    \n",
    "def invert(X):\n",
    "    L = len(X)\n",
    "    identity = I_metrix(L)\n",
    "    for i in range(L):\n",
    "        X[i]+=identity[i]\n",
    "    i = 0\n",
    "    for j in range(L):\n",
    "        X[i] = [v/X[i][j] for v in X[i]]\n",
    "        for q in range(L):\n",
    "            if q!=i:\n",
    "                scaled_row = [X[q][j] * m for m in X[i]]\n",
    "                X[q]= [X[q][m] - scaled_row[m] for m in range(len(scaled_row))]\n",
    "        if i == L or j == L:\n",
    "            break\n",
    "        i+=1\n",
    "    for i in xrange(L):\n",
    "        X[i] = X[i][L:len(X[i])]\n",
    "    return X\n",
    "\n",
    "def lcm(a,b):\n",
    "    return a * b // gcd(a, b)\n",
    "\n",
    "def transform(m):\n",
    "    # translate into fraction probability representation\n",
    "    if len(m) > 1:\n",
    "        sum_mark = []\n",
    "        for i in range(len(m)):\n",
    "            sum_i = sum(m[i])\n",
    "            sum_mark.append(sum_i)\n",
    "            if sum_i != 0:\n",
    "                for j in range(len(m)):\n",
    "                    m[i][j] = Fraction(m[i][j], sum_i)\n",
    "        # move terminal state to the later part of m\n",
    "        lst_order = [(i,j) for i, j in enumerate(sum_mark)]   \n",
    "        lst_order = sorted(lst_order, key=lambda x: (x[1] == 0)) \n",
    "        new_lst_order = [i[0] for i in lst_order]\n",
    "\n",
    "        new_m = []\n",
    "        for i in new_lst_order:\n",
    "            new_m.append(m[i])\n",
    "        m = new_m\n",
    "        \n",
    "        # find when Terminal state starts\n",
    "        term = 0\n",
    "        for i in range(len(lst_order)):\n",
    "            if lst_order[i][1] == 0:\n",
    "                term = i\n",
    "                break      \n",
    "        # edit identitfy metrix\n",
    "        for i in range(term, len(m)):\n",
    "            m[i][i] = 1\n",
    "        # construct I, R, Q, F metrix\n",
    "        Q = creat_empty_I_metrix(term)\n",
    "        for i in range(term):\n",
    "            for j in range(term):\n",
    "                Q[i][j] = m[i][j]\n",
    "        I = I_metrix(term)\n",
    "        \n",
    "        # F = (I-Q)^-1\n",
    "        F1 = matrix_sub(I, Q)\n",
    "        F = invert(F1)\n",
    "        \n",
    "        R = [[row[ci] for ci in range(term,len(m))] for row in m ][:term]\n",
    "        # result array\n",
    "        p_bar = dot(F, R)[0]\n",
    "        # finding least common denominator\n",
    "        deno = [i.denominator for i in p_bar]\n",
    "        denominator = reduce(lcm, deno)\n",
    "        \n",
    "        fin = [i.numerator*(denominator/i.denominator) for i in p_bar]\n",
    "        fin.append(denominator)\n",
    "        return fin\n",
    "    else:\n",
    "        return [1,1]\n",
    "\n",
    "def answer(m):\n",
    "    return transform(m)"
   ]
  },
  {
   "cell_type": "code",
   "execution_count": 87,
   "metadata": {},
   "outputs": [],
   "source": [
    "m1 = [[ 0,  7,  0, 17,  0,  1,  0,  5,  0,  2], [ 0,  0, 29,  0, 28,  0,  3,  0, 16,  0], [ 0,  3,  0,  0,  0,  1,  0,  0,  0,  0], [48,  0,  3,  0,  0,  0, 17,  0,  0,  0], [ 0,  6,  0,  0,  0,  1,  0,  0,  0,  0], [ 0,  0,  0,  0,  0,  0,  0,  0,  0,  0], [ 0,  0,  0,  0,  0,  0,  0,  0,  0,  0], [ 0,  0,  0,  0,  0,  0,  0,  0,  0,  0], [ 0,  0,  0,  0,  0,  0,  0,  0,  0,  0], [ 0,  0,  0,  0,  0,  0,  0,  0,  0,  0]]\n",
    "#a = [4, 5, 5, 4, 2, 20]"
   ]
  },
  {
   "cell_type": "code",
   "execution_count": 96,
   "metadata": {},
   "outputs": [
    {
     "data": {
      "text/plain": [
       "[1, 1, 1, 1, 1, 5]"
      ]
     },
     "execution_count": 96,
     "metadata": {},
     "output_type": "execute_result"
    }
   ],
   "source": [
    "answer(m2)"
   ]
  },
  {
   "cell_type": "code",
   "execution_count": 104,
   "metadata": {},
   "outputs": [],
   "source": [
    "m2 = [[1, 1, 1, 1, 1, 1, 1, 1, 1, 1], [0, 0, 0, 0, 0, 0, 0, 0, 0, 0], [1, 1, 1, 1, 1, 1, 1, 1, 1, 1], [0, 0, 0, 0, 0, 0, 0, 0, 0, 0], [1, 1, 1, 1, 1, 1, 1, 1, 1, 1], [0, 0, 0, 0, 0, 0, 0, 0, 0, 0], [1, 1, 1, 1, 1, 1, 1, 1, 1, 1], [0, 0, 0, 0, 0, 0, 0, 0, 0, 0], [1, 1, 1, 1, 1, 1, 1, 1, 1, 1], [0, 0, 0, 0, 0, 0, 0, 0, 0, 0]]\n",
    "#a = [1, 1, 1, 1, 1, 5]"
   ]
  },
  {
   "cell_type": "code",
   "execution_count": 146,
   "metadata": {},
   "outputs": [],
   "source": [
    "m5 = [[1, 1, 1, 0, 1, 0, 1, 0, 1, 0], [0, 0, 0, 0, 0, 0, 0, 0, 0, 0], [1, 0, 1, 1, 1, 0, 1, 0, 1, 0], [0, 0, 0, 0, 0, 0, 0, 0, 0, 0], [1, 0, 1, 0, 1, 1, 1, 0, 1, 0], [0, 0, 0, 0, 0, 0, 0, 0, 0, 0], [1, 0, 1, 0, 1, 0, 1, 1, 1, 0], [0, 0, 0, 0, 0, 0, 0, 0, 0, 0], [1, 0, 1, 0, 1, 0, 1, 0, 1, 1], [0, 0, 0, 0, 0, 0, 0, 0, 0, 0]]\n",
    "#a = [2, 1, 1, 1, 1, 6]"
   ]
  },
  {
   "cell_type": "code",
   "execution_count": 147,
   "metadata": {},
   "outputs": [
    {
     "data": {
      "text/plain": [
       "[[1, 1, 1, 0, 1, 0, 1, 0, 1, 0],\n",
       " [0, 0, 0, 0, 0, 0, 0, 0, 0, 0],\n",
       " [1, 0, 1, 1, 1, 0, 1, 0, 1, 0],\n",
       " [0, 0, 0, 0, 0, 0, 0, 0, 0, 0],\n",
       " [1, 0, 1, 0, 1, 1, 1, 0, 1, 0],\n",
       " [0, 0, 0, 0, 0, 0, 0, 0, 0, 0],\n",
       " [1, 0, 1, 0, 1, 0, 1, 1, 1, 0],\n",
       " [0, 0, 0, 0, 0, 0, 0, 0, 0, 0],\n",
       " [1, 0, 1, 0, 1, 0, 1, 0, 1, 1],\n",
       " [0, 0, 0, 0, 0, 0, 0, 0, 0, 0]]"
      ]
     },
     "execution_count": 147,
     "metadata": {},
     "output_type": "execute_result"
    }
   ],
   "source": [
    "m5"
   ]
  },
  {
   "cell_type": "code",
   "execution_count": 107,
   "metadata": {},
   "outputs": [
    {
     "data": {
      "text/plain": [
       "[[1, 1, 1, 1, 1, 1, 1, 1, 1, 1],\n",
       " [0, 0, 0, 0, 0, 0, 0, 0, 0, 0],\n",
       " [1, 1, 1, 1, 1, 1, 1, 1, 1, 1],\n",
       " [0, 0, 0, 0, 0, 0, 0, 0, 0, 0],\n",
       " [1, 1, 1, 1, 1, 1, 1, 1, 1, 1],\n",
       " [0, 0, 0, 0, 0, 0, 0, 0, 0, 0],\n",
       " [1, 1, 1, 1, 1, 1, 1, 1, 1, 1],\n",
       " [0, 0, 0, 0, 0, 0, 0, 0, 0, 0],\n",
       " [1, 1, 1, 1, 1, 1, 1, 1, 1, 1],\n",
       " [0, 0, 0, 0, 0, 0, 0, 0, 0, 0]]"
      ]
     },
     "execution_count": 107,
     "metadata": {},
     "output_type": "execute_result"
    }
   ],
   "source": [
    "m2"
   ]
  },
  {
   "cell_type": "code",
   "execution_count": 95,
   "metadata": {},
   "outputs": [],
   "source": [
    "m2 = sorted(m2, key = lambda x: x[0], reverse= True)"
   ]
  },
  {
   "cell_type": "code",
   "execution_count": 148,
   "metadata": {},
   "outputs": [],
   "source": [
    "sum_mark = []\n",
    "for i in range(len(m5)):\n",
    "    sum_i = sum(m5[i])\n",
    "    sum_mark.append(sum_i)"
   ]
  },
  {
   "cell_type": "code",
   "execution_count": 151,
   "metadata": {},
   "outputs": [
    {
     "data": {
      "text/plain": [
       "[6, 0, 6, 0, 6, 0, 6, 0, 6, 0]"
      ]
     },
     "execution_count": 151,
     "metadata": {},
     "output_type": "execute_result"
    }
   ],
   "source": [
    "sum_mark"
   ]
  },
  {
   "cell_type": "code",
   "execution_count": 152,
   "metadata": {},
   "outputs": [
    {
     "data": {
      "text/plain": [
       "[[1, 1, 1, 0, 1, 0, 1, 0, 1, 0],\n",
       " [1, 0, 1, 1, 1, 0, 1, 0, 1, 0],\n",
       " [1, 0, 1, 0, 1, 1, 1, 0, 1, 0],\n",
       " [1, 0, 1, 0, 1, 0, 1, 1, 1, 0],\n",
       " [1, 0, 1, 0, 1, 0, 1, 0, 1, 1],\n",
       " [0, 0, 0, 0, 0, 0, 0, 0, 0, 0],\n",
       " [0, 0, 0, 0, 0, 0, 0, 0, 0, 0],\n",
       " [0, 0, 0, 0, 0, 0, 0, 0, 0, 0],\n",
       " [0, 0, 0, 0, 0, 0, 0, 0, 0, 0],\n",
       " [0, 0, 0, 0, 0, 0, 0, 0, 0, 0]]"
      ]
     },
     "execution_count": 152,
     "metadata": {},
     "output_type": "execute_result"
    }
   ],
   "source": [
    "\n",
    "lst_order = [(i,j) for i, j in enumerate(sum_mark)]   \n",
    "lst_order = sorted(lst_order, key=lambda x: (x[1] == 0)) \n",
    "new_lst_order = [i[0] for i in new_lst]\n",
    "\n",
    "new_matrix = []\n",
    "for i in new_lst_order:\n",
    "        new_matrix.append(m5[i])\n",
    "new_matrix"
   ]
  },
  {
   "cell_type": "code",
   "execution_count": 153,
   "metadata": {},
   "outputs": [
    {
     "data": {
      "text/plain": [
       "[(0, 6),\n",
       " (2, 6),\n",
       " (4, 6),\n",
       " (6, 6),\n",
       " (8, 6),\n",
       " (1, 0),\n",
       " (3, 0),\n",
       " (5, 0),\n",
       " (7, 0),\n",
       " (9, 0)]"
      ]
     },
     "execution_count": 153,
     "metadata": {},
     "output_type": "execute_result"
    }
   ],
   "source": [
    "lst_order"
   ]
  },
  {
   "cell_type": "code",
   "execution_count": 154,
   "metadata": {},
   "outputs": [],
   "source": [
    "        term = 0\n",
    "        for i in range(len(lst_order)):\n",
    "            if lst_order[i][1] == 0:\n",
    "                term = i\n",
    "                break  "
   ]
  },
  {
   "cell_type": "code",
   "execution_count": 156,
   "metadata": {},
   "outputs": [],
   "source": [
    "for i in range(term, len(m)):\n",
    "    m[i][i] = 1\n",
    "# construct I, R, Q, F metrix\n",
    "Q = creat_empty_I_metrix(term)\n",
    "for i in range(term):\n",
    "    for j in range(term):\n",
    "        Q[i][j] = m[i][j]\n",
    "I = I_metrix(term) "
   ]
  },
  {
   "cell_type": "code",
   "execution_count": 159,
   "metadata": {},
   "outputs": [
    {
     "data": {
      "text/plain": [
       "[[Fraction(0, 1),\n",
       "  Fraction(1, 2),\n",
       "  Fraction(0, 1),\n",
       "  Fraction(0, 1),\n",
       "  Fraction(0, 1)],\n",
       " [Fraction(4, 9),\n",
       "  Fraction(0, 1),\n",
       "  Fraction(0, 1),\n",
       "  Fraction(1, 3),\n",
       "  Fraction(2, 9)],\n",
       " [0, 0, 1, 0, 0],\n",
       " [0, 0, 0, 1, 0],\n",
       " [0, 0, 0, 0, 1]]"
      ]
     },
     "execution_count": 159,
     "metadata": {},
     "output_type": "execute_result"
    }
   ],
   "source": [
    "Q"
   ]
  },
  {
   "cell_type": "code",
   "execution_count": 120,
   "metadata": {},
   "outputs": [],
   "source": [
    "new_lst = sorted(new_lst, \n",
    "       key=lambda x: (x[1] == 0))"
   ]
  },
  {
   "cell_type": "code",
   "execution_count": 121,
   "metadata": {},
   "outputs": [
    {
     "data": {
      "text/plain": [
       "[0, 2, 4, 6, 8, 1, 3, 5, 7, 9]"
      ]
     },
     "execution_count": 121,
     "metadata": {},
     "output_type": "execute_result"
    }
   ],
   "source": [
    "new_lst_2 = [i[0] for i in new_lst]\n",
    "new_lst_2"
   ]
  },
  {
   "cell_type": "code",
   "execution_count": 127,
   "metadata": {},
   "outputs": [],
   "source": [
    "new_matrix = []\n",
    "for i in new_lst_2:\n",
    "        new_matrix.append(m2[i])"
   ]
  },
  {
   "cell_type": "code",
   "execution_count": 128,
   "metadata": {},
   "outputs": [
    {
     "data": {
      "text/plain": [
       "[[1, 1, 1, 1, 1, 1, 1, 1, 1, 1],\n",
       " [1, 1, 1, 1, 1, 1, 1, 1, 1, 1],\n",
       " [1, 1, 1, 1, 1, 1, 1, 1, 1, 1],\n",
       " [1, 1, 1, 1, 1, 1, 1, 1, 1, 1],\n",
       " [1, 1, 1, 1, 1, 1, 1, 1, 1, 1],\n",
       " [0, 0, 0, 0, 0, 0, 0, 0, 0, 0],\n",
       " [0, 0, 0, 0, 0, 0, 0, 0, 0, 0],\n",
       " [0, 0, 0, 0, 0, 0, 0, 0, 0, 0],\n",
       " [0, 0, 0, 0, 0, 0, 0, 0, 0, 0],\n",
       " [0, 0, 0, 0, 0, 0, 0, 0, 0, 0]]"
      ]
     },
     "execution_count": 128,
     "metadata": {},
     "output_type": "execute_result"
    }
   ],
   "source": [
    "new_matrix"
   ]
  }
 ],
 "metadata": {
  "kernelspec": {
   "display_name": "Python [default]",
   "language": "python",
   "name": "python2"
  },
  "language_info": {
   "codemirror_mode": {
    "name": "ipython",
    "version": 2
   },
   "file_extension": ".py",
   "mimetype": "text/x-python",
   "name": "python",
   "nbconvert_exporter": "python",
   "pygments_lexer": "ipython2",
   "version": "2.7.12"
  }
 },
 "nbformat": 4,
 "nbformat_minor": 2
}

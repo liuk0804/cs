{
 "cells": [
  {
   "cell_type": "code",
   "execution_count": 1,
   "metadata": {},
   "outputs": [],
   "source": [
    "from fractions import Fraction"
   ]
  },
  {
   "cell_type": "code",
   "execution_count": 1,
   "metadata": {},
   "outputs": [],
   "source": [
    "m = [\n",
    "   [0, 1, 0, 0, 0, 1],\n",
    "   [4, 0, 0, 3, 2, 0],\n",
    "   [0, 0, 0, 0, 0, 0],\n",
    "   [0, 0, 0, 0, 0, 0],\n",
    "   [0, 0, 0, 0, 0, 0],\n",
    "   [0, 0, 0, 0, 0, 0],\n",
    " ]"
   ]
  },
  {
   "cell_type": "code",
   "execution_count": 5,
   "metadata": {},
   "outputs": [],
   "source": [
    "for i in range(len(m)):\n",
    "    sum_i = sum(m[i])\n",
    "    if sum_i != 0:\n",
    "        for j in range(len(m)):\n",
    "            m[i][j] = Fraction(m[i][j], sum_i)"
   ]
  },
  {
   "cell_type": "code",
   "execution_count": 6,
   "metadata": {},
   "outputs": [
    {
     "data": {
      "text/plain": [
       "[[Fraction(0, 1),\n",
       "  Fraction(1, 2),\n",
       "  Fraction(0, 1),\n",
       "  Fraction(0, 1),\n",
       "  Fraction(0, 1),\n",
       "  Fraction(1, 2)],\n",
       " [Fraction(4, 9),\n",
       "  Fraction(0, 1),\n",
       "  Fraction(0, 1),\n",
       "  Fraction(1, 3),\n",
       "  Fraction(2, 9),\n",
       "  Fraction(0, 1)],\n",
       " [0, 0, 0, 0, 0, 0],\n",
       " [0, 0, 0, 0, 0, 0],\n",
       " [0, 0, 0, 0, 0, 0],\n",
       " [0, 0, 0, 0, 0, 0]]"
      ]
     },
     "execution_count": 6,
     "metadata": {},
     "output_type": "execute_result"
    }
   ],
   "source": [
    "m"
   ]
  },
  {
   "cell_type": "code",
   "execution_count": 40,
   "metadata": {},
   "outputs": [],
   "source": [
    "import numpy as np\n",
    "\n",
    "m = np.array(m)\n",
    "m\n",
    "\n",
    "new_order = range(2,len(m1))+ [0, 1]\n",
    "m = m[:, new_order][new_order]"
   ]
  },
  {
   "cell_type": "code",
   "execution_count": 30,
   "metadata": {},
   "outputs": [
    {
     "data": {
      "text/plain": [
       "[[Fraction(0, 1),\n",
       "  Fraction(1, 2),\n",
       "  Fraction(0, 1),\n",
       "  Fraction(0, 1),\n",
       "  Fraction(0, 1),\n",
       "  Fraction(1, 2)],\n",
       " [Fraction(4, 9),\n",
       "  Fraction(0, 1),\n",
       "  Fraction(0, 1),\n",
       "  Fraction(1, 3),\n",
       "  Fraction(2, 9),\n",
       "  Fraction(0, 1)],\n",
       " [0, 0, 0, 0, 0, 0],\n",
       " [0, 0, 0, 0, 0, 0],\n",
       " [0, 0, 0, 0, 0, 0],\n",
       " [0, 0, 0, 0, 0, 0]]"
      ]
     },
     "execution_count": 30,
     "metadata": {},
     "output_type": "execute_result"
    }
   ],
   "source": [
    "m"
   ]
  },
  {
   "cell_type": "code",
   "execution_count": 7,
   "metadata": {},
   "outputs": [
    {
     "data": {
      "text/plain": [
       "[[Fraction(0, 1),\n",
       "  Fraction(1, 2),\n",
       "  Fraction(0, 1),\n",
       "  Fraction(0, 1),\n",
       "  Fraction(0, 1),\n",
       "  Fraction(1, 2)],\n",
       " [Fraction(4, 9),\n",
       "  Fraction(0, 1),\n",
       "  Fraction(0, 1),\n",
       "  Fraction(1, 3),\n",
       "  Fraction(2, 9),\n",
       "  Fraction(0, 1)],\n",
       " [0, 0, 1, 0, 0, 0],\n",
       " [0, 0, 0, 1, 0, 0],\n",
       " [0, 0, 0, 0, 1, 0],\n",
       " [0, 0, 0, 0, 0, 1]]"
      ]
     },
     "execution_count": 7,
     "metadata": {},
     "output_type": "execute_result"
    }
   ],
   "source": [
    "for i in range(2,len(m)):\n",
    "    m[i][i] = 1\n",
    "m"
   ]
  },
  {
   "cell_type": "code",
   "execution_count": 9,
   "metadata": {},
   "outputs": [
    {
     "data": {
      "text/plain": [
       "[[Fraction(0, 1), Fraction(1, 2)], [Fraction(4, 9), Fraction(0, 1)]]"
      ]
     },
     "execution_count": 9,
     "metadata": {},
     "output_type": "execute_result"
    }
   ],
   "source": [
    "Q"
   ]
  },
  {
   "cell_type": "code",
   "execution_count": 8,
   "metadata": {},
   "outputs": [],
   "source": [
    "Q = [[m[0][0], m[0][1]], [m[1][0], m[1][1]]]\n",
    "I = [[m[-2][-2], m[-2][-1]], [m[-1][-2], m[-1][-1]]]"
   ]
  },
  {
   "cell_type": "code",
   "execution_count": 41,
   "metadata": {},
   "outputs": [
    {
     "name": "stdout",
     "output_type": "stream",
     "text": [
      "[[1, 0], [0, 1]]\n",
      "[[Fraction(0, 1), Fraction(1, 2)], [Fraction(4, 9), Fraction(0, 1)]]\n"
     ]
    }
   ],
   "source": [
    "print I1\n",
    "print Q1"
   ]
  },
  {
   "cell_type": "code",
   "execution_count": 51,
   "metadata": {},
   "outputs": [
    {
     "data": {
      "text/plain": [
       "[[Fraction(1, 1), Fraction(-1, 2)], [Fraction(-4, 9), Fraction(1, 1)]]"
      ]
     },
     "execution_count": 51,
     "metadata": {},
     "output_type": "execute_result"
    }
   ],
   "source": [
    "F1 = [[I[0][0] - Q[0][0], I[0][1] - Q[0][1]], [I[1][0] - Q[1][0], I[1][1] - Q[1][1]]]\n",
    "F1"
   ]
  },
  {
   "cell_type": "code",
   "execution_count": 32,
   "metadata": {},
   "outputs": [
    {
     "ename": "TypeError",
     "evalue": "list indices must be integers, not tuple",
     "output_type": "error",
     "traceback": [
      "\u001b[0;31m---------------------------------------------------------------------------\u001b[0m",
      "\u001b[0;31mTypeError\u001b[0m                                 Traceback (most recent call last)",
      "\u001b[0;32m<ipython-input-32-fc8554f61478>\u001b[0m in \u001b[0;36m<module>\u001b[0;34m()\u001b[0m\n\u001b[0;32m----> 1\u001b[0;31m \u001b[0mI\u001b[0m \u001b[0;34m=\u001b[0m \u001b[0mm1\u001b[0m\u001b[0;34m[\u001b[0m\u001b[0;34m:\u001b[0m\u001b[0;36m2\u001b[0m\u001b[0;34m,\u001b[0m \u001b[0;34m:\u001b[0m\u001b[0;36m2\u001b[0m\u001b[0;34m]\u001b[0m\u001b[0;34m\u001b[0m\u001b[0m\n\u001b[0m\u001b[1;32m      2\u001b[0m \u001b[0mQ\u001b[0m \u001b[0;34m=\u001b[0m \u001b[0mm1\u001b[0m\u001b[0;34m[\u001b[0m\u001b[0;34m-\u001b[0m\u001b[0;36m2\u001b[0m\u001b[0;34m:\u001b[0m\u001b[0;34m,\u001b[0m \u001b[0;34m-\u001b[0m\u001b[0;36m2\u001b[0m\u001b[0;34m:\u001b[0m\u001b[0;34m]\u001b[0m\u001b[0;34m\u001b[0m\u001b[0m\n",
      "\u001b[0;31mTypeError\u001b[0m: list indices must be integers, not tuple"
     ]
    }
   ],
   "source": [
    "I = m1[:2, :2]\n",
    "Q = m1[-2:, -2:]"
   ]
  },
  {
   "cell_type": "code",
   "execution_count": 47,
   "metadata": {},
   "outputs": [
    {
     "data": {
      "text/plain": [
       "[[1, 0], [0, 1]]"
      ]
     },
     "execution_count": 47,
     "metadata": {},
     "output_type": "execute_result"
    }
   ],
   "source": [
    "I"
   ]
  },
  {
   "cell_type": "code",
   "execution_count": 46,
   "metadata": {},
   "outputs": [
    {
     "data": {
      "text/plain": [
       "[[Fraction(0, 1), Fraction(1, 2)], [Fraction(4, 9), Fraction(0, 1)]]"
      ]
     },
     "execution_count": 46,
     "metadata": {},
     "output_type": "execute_result"
    }
   ],
   "source": [
    "Q"
   ]
  },
  {
   "cell_type": "code",
   "execution_count": 50,
   "metadata": {},
   "outputs": [
    {
     "data": {
      "text/plain": [
       "[([1, 0], [Fraction(0, 1), Fraction(1, 2)]),\n",
       " ([0, 1], [Fraction(4, 9), Fraction(0, 1)])]"
      ]
     },
     "execution_count": 50,
     "metadata": {},
     "output_type": "execute_result"
    }
   ],
   "source": []
  },
  {
   "cell_type": "code",
   "execution_count": 52,
   "metadata": {},
   "outputs": [],
   "source": [
    "a, b, c, d = F1[0][0], F1[0][1], F1[1][0], F1[1][1]"
   ]
  },
  {
   "cell_type": "code",
   "execution_count": 54,
   "metadata": {},
   "outputs": [
    {
     "data": {
      "text/plain": [
       "Fraction(9, 7)"
      ]
     },
     "execution_count": 54,
     "metadata": {},
     "output_type": "execute_result"
    }
   ],
   "source": [
    "e = Fraction(1, a*d-b*c)\n",
    "e"
   ]
  },
  {
   "cell_type": "code",
   "execution_count": 55,
   "metadata": {},
   "outputs": [
    {
     "data": {
      "text/plain": [
       "[[Fraction(9, 7), Fraction(9, 14)], [Fraction(4, 7), Fraction(9, 7)]]"
      ]
     },
     "execution_count": 55,
     "metadata": {},
     "output_type": "execute_result"
    }
   ],
   "source": [
    "F = [[d*e, -b*e], [-c*e, a*e]]\n",
    "F"
   ]
  },
  {
   "cell_type": "code",
   "execution_count": 71,
   "metadata": {},
   "outputs": [
    {
     "data": {
      "text/plain": [
       "array([[Fraction(9, 7), Fraction(9, 14)],\n",
       "       [Fraction(4, 7), Fraction(9, 7)]], dtype=object)"
      ]
     },
     "execution_count": 71,
     "metadata": {},
     "output_type": "execute_result"
    }
   ],
   "source": [
    "F = [[d, -b], [-c, a]])*e\n",
    "F"
   ]
  },
  {
   "cell_type": "code",
   "execution_count": 73,
   "metadata": {},
   "outputs": [
    {
     "data": {
      "text/plain": [
       "[[Fraction(0, 1),\n",
       "  Fraction(1, 2),\n",
       "  Fraction(0, 1),\n",
       "  Fraction(0, 1),\n",
       "  Fraction(0, 1),\n",
       "  Fraction(1, 2)],\n",
       " [Fraction(4, 9),\n",
       "  Fraction(0, 1),\n",
       "  Fraction(0, 1),\n",
       "  Fraction(1, 3),\n",
       "  Fraction(2, 9),\n",
       "  Fraction(0, 1)],\n",
       " [0, 0, 0, 0, 0, 0],\n",
       " [0, 0, 0, 0, 0, 0],\n",
       " [0, 0, 0, 0, 0, 0],\n",
       " [0, 0, 0, 0, 0, 0]]"
      ]
     },
     "execution_count": 73,
     "metadata": {},
     "output_type": "execute_result"
    }
   ],
   "source": [
    "m"
   ]
  },
  {
   "cell_type": "code",
   "execution_count": 74,
   "metadata": {},
   "outputs": [],
   "source": [
    "R = m1[-2:, :-2]"
   ]
  },
  {
   "cell_type": "code",
   "execution_count": 58,
   "metadata": {},
   "outputs": [
    {
     "data": {
      "text/plain": [
       "[2, 3, 4, 5]"
      ]
     },
     "execution_count": 58,
     "metadata": {},
     "output_type": "execute_result"
    }
   ],
   "source": [
    "range(2,len(m))"
   ]
  },
  {
   "cell_type": "code",
   "execution_count": 61,
   "metadata": {},
   "outputs": [
    {
     "data": {
      "text/plain": [
       "[[Fraction(0, 1), Fraction(0, 1), Fraction(0, 1), Fraction(1, 2)],\n",
       " [Fraction(0, 1), Fraction(1, 3), Fraction(2, 9), Fraction(0, 1)]]"
      ]
     },
     "execution_count": 61,
     "metadata": {},
     "output_type": "execute_result"
    }
   ],
   "source": [
    "R = [[row[ci] for ci in range(2,len(m))] for row in m ][:2]\n",
    "R"
   ]
  },
  {
   "cell_type": "code",
   "execution_count": 75,
   "metadata": {},
   "outputs": [
    {
     "data": {
      "text/plain": [
       "array([[Fraction(0, 1), Fraction(0, 1), Fraction(0, 1), Fraction(1, 2)],\n",
       "       [Fraction(0, 1), Fraction(1, 3), Fraction(2, 9), Fraction(0, 1)]], dtype=object)"
      ]
     },
     "execution_count": 75,
     "metadata": {},
     "output_type": "execute_result"
    }
   ],
   "source": [
    "R"
   ]
  },
  {
   "cell_type": "code",
   "execution_count": 66,
   "metadata": {},
   "outputs": [
    {
     "data": {
      "text/plain": [
       "4"
      ]
     },
     "execution_count": 66,
     "metadata": {},
     "output_type": "execute_result"
    }
   ],
   "source": [
    "len(X)\n",
    "len(Y[0])"
   ]
  },
  {
   "cell_type": "code",
   "execution_count": 71,
   "metadata": {},
   "outputs": [],
   "source": [
    "def dot(X, Y):\n",
    "    result = []\n",
    "    for i in range(len(X)):\n",
    "        result.append([0]*len(Y[0]))\n",
    "\n",
    "    for i in range(len(X)):\n",
    "       # iterate through columns of Y\n",
    "       for j in range(len(Y[0])):\n",
    "           # iterate through rows of Y\n",
    "           for k in range(len(Y)):\n",
    "                result[i][j] += X[i][k] * Y[k][j]\n",
    "    return result"
   ]
  },
  {
   "cell_type": "code",
   "execution_count": null,
   "metadata": {},
   "outputs": [],
   "source": []
  },
  {
   "cell_type": "code",
   "execution_count": 62,
   "metadata": {},
   "outputs": [
    {
     "name": "stdout",
     "output_type": "stream",
     "text": [
      "[114, 160, 60, 27]\n",
      "[74, 97, 73, 14]\n",
      "[119, 157, 112, 23]\n"
     ]
    }
   ],
   "source": [
    "# 3x3 matrix\n",
    "X = [[12,7,3],\n",
    "    [4 ,5,6],\n",
    "    [7 ,8,9]]\n",
    "# 3x4 matrix\n",
    "Y = [[5,8,1,2],\n",
    "    [6,7,3,0],\n",
    "    [4,5,9,1]]\n",
    "# result is 3x4\n",
    "\n",
    "\n",
    "\n",
    "result = [[0,0,0,0],\n",
    "         [0,0,0,0],\n",
    "         [0,0,0,0]]\n",
    "\n",
    "# iterate through rows of X\n",
    "for i in range(len(X)):\n",
    "   # iterate through columns of Y\n",
    "   for j in range(len(Y[0])):\n",
    "       # iterate through rows of Y\n",
    "       for k in range(len(Y)):\n",
    "            result[i][j] += X[i][k] * Y[k][j]\n",
    "\n",
    "for r in result:\n",
    "    print(r)"
   ]
  },
  {
   "cell_type": "code",
   "execution_count": 72,
   "metadata": {},
   "outputs": [
    {
     "data": {
      "text/plain": [
       "[[114, 160, 60, 27], [74, 97, 73, 14], [119, 157, 112, 23]]"
      ]
     },
     "execution_count": 72,
     "metadata": {},
     "output_type": "execute_result"
    }
   ],
   "source": [
    "dot(X, Y)"
   ]
  },
  {
   "cell_type": "code",
   "execution_count": 78,
   "metadata": {},
   "outputs": [],
   "source": [
    "ans = F.dot(R)[0]"
   ]
  },
  {
   "cell_type": "code",
   "execution_count": 73,
   "metadata": {},
   "outputs": [
    {
     "data": {
      "text/plain": [
       "[Fraction(0, 1), Fraction(3, 14), Fraction(1, 7), Fraction(9, 14)]"
      ]
     },
     "execution_count": 73,
     "metadata": {},
     "output_type": "execute_result"
    }
   ],
   "source": [
    "p_bar = dot(F, R)[0]\n",
    "p_bar"
   ]
  },
  {
   "cell_type": "code",
   "execution_count": 79,
   "metadata": {},
   "outputs": [
    {
     "data": {
      "text/plain": [
       "array([Fraction(0, 1), Fraction(3, 14), Fraction(1, 7), Fraction(9, 14)], dtype=object)"
      ]
     },
     "execution_count": 79,
     "metadata": {},
     "output_type": "execute_result"
    }
   ],
   "source": [
    "ans"
   ]
  },
  {
   "cell_type": "code",
   "execution_count": 80,
   "metadata": {},
   "outputs": [],
   "source": [
    "from fractions import gcd\n",
    "def lcm(a,b):\n",
    "    return a * b // gcd(a, b)"
   ]
  },
  {
   "cell_type": "code",
   "execution_count": 81,
   "metadata": {},
   "outputs": [
    {
     "data": {
      "text/plain": [
       "[1, 14, 7, 14]"
      ]
     },
     "execution_count": 81,
     "metadata": {},
     "output_type": "execute_result"
    }
   ],
   "source": [
    "deno = [i.denominator for i in ans]\n",
    "deno"
   ]
  },
  {
   "cell_type": "code",
   "execution_count": 82,
   "metadata": {},
   "outputs": [
    {
     "data": {
      "text/plain": [
       "14"
      ]
     },
     "execution_count": 82,
     "metadata": {},
     "output_type": "execute_result"
    }
   ],
   "source": [
    "denominator = reduce(lcm, deno)\n",
    "denominator"
   ]
  },
  {
   "cell_type": "code",
   "execution_count": 83,
   "metadata": {},
   "outputs": [],
   "source": [
    "answer = [i.numerator*(denominator/i.denominator) for i in ans]"
   ]
  },
  {
   "cell_type": "code",
   "execution_count": 85,
   "metadata": {},
   "outputs": [],
   "source": [
    "answer.append(denominator)"
   ]
  },
  {
   "cell_type": "code",
   "execution_count": 86,
   "metadata": {},
   "outputs": [
    {
     "data": {
      "text/plain": [
       "[0, 3, 2, 9, 14]"
      ]
     },
     "execution_count": 86,
     "metadata": {},
     "output_type": "execute_result"
    }
   ],
   "source": [
    "answer"
   ]
  },
  {
   "cell_type": "code",
   "execution_count": 1,
   "metadata": {},
   "outputs": [],
   "source": [
    "from fractions import Fraction\n",
    "from fractions import gcd\n",
    "\n",
    "def lcm(a,b):\n",
    "    return a * b // gcd(a, b)\n",
    "\n",
    "def dot(X, Y):\n",
    "    result = []\n",
    "    for i in range(len(X)):\n",
    "        result.append([0]*len(Y[0]))\n",
    "\n",
    "    for i in range(len(X)):\n",
    "       # iterate through columns of Y\n",
    "       for j in range(len(Y[0])):\n",
    "           # iterate through rows of Y\n",
    "           for k in range(len(Y)):\n",
    "                result[i][j] += X[i][k] * Y[k][j]\n",
    "    return result"
   ]
  },
  {
   "cell_type": "code",
   "execution_count": 87,
   "metadata": {},
   "outputs": [],
   "source": [
    "\n",
    "\n",
    "def answer(m):\n",
    "    # translate into fraction probability representation\n",
    "    for i in range(len(m)):\n",
    "        sum_i = sum(m[i])\n",
    "        if sum_i != 0:\n",
    "            for j in range(len(m)):\n",
    "                m[i][j] = Fraction(m[i][j], sum_i)\n",
    "    m = np.array(m)\n",
    "    # reshape into transition matrix form\n",
    "    new_order = range(2,len(m))+ [0, 1]\n",
    "    m = m[:, new_order][new_order]\n",
    "    # edit identitfy metrix\n",
    "    for i in range(len(m)-2):\n",
    "        m[i][i] = 1\n",
    "    # construct I, R, Q, F metrix\n",
    "    I = m[:2, :2]\n",
    "    Q = m[-2:, -2:]\n",
    "    \n",
    "    F1 = (I-Q)\n",
    "    a, b, c, d = F1[0][0], F1[0][1], F1[1][0], F1[1][1]\n",
    "    e = Fraction(1, a*d-b*c)\n",
    "    F = np.array([[d, -b], [-c, a]])*e\n",
    "    R = m[-2:, :-2]\n",
    "    # result array\n",
    "    p_bar = F.dot(R)[0]\n",
    "    # finding least common denominator\n",
    "    deno = [i.denominator for i in p_bar]\n",
    "    denominator = reduce(lcm, deno)\n",
    "    \n",
    "    fin = [i.numerator*(denominator/i.denominator) for i in p_bar]\n",
    "    fin.append(denominator)\n",
    "    \n",
    "    return fin\n",
    "    \n"
   ]
  },
  {
   "cell_type": "code",
   "execution_count": 91,
   "metadata": {},
   "outputs": [
    {
     "data": {
      "text/plain": [
       "[0, 3, 2, 9, 14]"
      ]
     },
     "execution_count": 91,
     "metadata": {},
     "output_type": "execute_result"
    }
   ],
   "source": [
    "answer(m)"
   ]
  },
  {
   "cell_type": "code",
   "execution_count": 2,
   "metadata": {},
   "outputs": [],
   "source": [
    "from fractions import Fraction\n",
    "from fractions import gcd\n",
    "\n",
    "def dot(X, Y):\n",
    "    result = []\n",
    "    for i in range(len(X)):\n",
    "        result.append([0]*len(Y[0]))\n",
    "\n",
    "    for i in range(len(X)):\n",
    "       # iterate through columns of Y\n",
    "       for j in range(len(Y[0])):\n",
    "           # iterate through rows of Y\n",
    "           for k in range(len(Y)):\n",
    "                result[i][j] += X[i][k] * Y[k][j]\n",
    "    return result\n",
    "\n",
    "def lcm(a,b):\n",
    "    return a * b // gcd(a, b)\n",
    "\n",
    "def answer(m):\n",
    "    # translate into fraction probability representation\n",
    "    for i in range(len(m)):\n",
    "        sum_i = sum(m[i])\n",
    "        if sum_i != 0:\n",
    "            for j in range(len(m)):\n",
    "                m[i][j] = Fraction(m[i][j], sum_i)\n",
    " \n",
    "    # edit identitfy metrix\n",
    "    for i in range(2,len(m)):\n",
    "        m[i][i] = 1\n",
    "    # construct I, R, Q, F metrix\n",
    "    Q = [[m[0][0], m[0][1]], [m[1][0], m[1][1]]]\n",
    "    I = [[m[-2][-2], m[-2][-1]], [m[-1][-2], m[-1][-1]]]\n",
    "    \n",
    "    # F = (I-Q)^-1\n",
    "    F1 = [[I[0][0] - Q[0][0], I[0][1] - Q[0][1]], [I[1][0] - Q[1][0], I[1][1] - Q[1][1]]]\n",
    "    a, b, c, d = F1[0][0], F1[0][1], F1[1][0], F1[1][1]\n",
    "    e = Fraction(1, a*d-b*c)\n",
    "    F = [[d*e, -b*e], [-c*e, a*e]]\n",
    "    \n",
    "    R = [[row[ci] for ci in range(2,len(m))] for row in m ][:2]\n",
    "    # result array\n",
    "    p_bar = dot(F, R)[0]\n",
    "    # finding least common denominator\n",
    "    deno = [i.denominator for i in p_bar]\n",
    "    denominator = reduce(lcm, deno)\n",
    "    \n",
    "    fin = [i.numerator*(denominator/i.denominator) for i in p_bar]\n",
    "    fin.append(denominator)\n",
    "    \n",
    "    return fin\n",
    "    "
   ]
  },
  {
   "cell_type": "code",
   "execution_count": 3,
   "metadata": {},
   "outputs": [
    {
     "data": {
      "text/plain": [
       "[0, 3, 2, 9, 14]"
      ]
     },
     "execution_count": 3,
     "metadata": {},
     "output_type": "execute_result"
    }
   ],
   "source": [
    "answer(m)"
   ]
  },
  {
   "cell_type": "code",
   "execution_count": null,
   "metadata": {},
   "outputs": [],
   "source": []
  }
 ],
 "metadata": {
  "kernelspec": {
   "display_name": "Python [default]",
   "language": "python",
   "name": "python2"
  },
  "language_info": {
   "codemirror_mode": {
    "name": "ipython",
    "version": 2
   },
   "file_extension": ".py",
   "mimetype": "text/x-python",
   "name": "python",
   "nbconvert_exporter": "python",
   "pygments_lexer": "ipython2",
   "version": "2.7.12"
  }
 },
 "nbformat": 4,
 "nbformat_minor": 2
}
